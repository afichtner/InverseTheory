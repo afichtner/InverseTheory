{
 "cells": [
  {
   "cell_type": "markdown",
   "metadata": {},
   "source": [
    "# Factorised BFGS\n",
    "\n",
    "This is a small notebook to test the implementation of the factorised BFGS equations."
   ]
  },
  {
   "cell_type": "markdown",
   "metadata": {},
   "source": [
    "## 0. Import packages"
   ]
  },
  {
   "cell_type": "code",
   "execution_count": null,
   "metadata": {},
   "outputs": [],
   "source": [
    "import numpy as np"
   ]
  },
  {
   "cell_type": "markdown",
   "metadata": {},
   "source": [
    "## 1. Input\n",
    "\n",
    "First, we provide some input that would usually come from previous BFGS iterations. This includes the vectors $\\mathbf{s}$ and $\\mathbf{y}$, and also the matrices $\\mathbf{A}$ and $\\mathbf{A}^{-1}$. In the notation used here, $\\mathbf{A}$ is the approximation to the *inverse* Hessian."
   ]
  },
  {
   "cell_type": "code",
   "execution_count": null,
   "metadata": {},
   "outputs": [],
   "source": [
    "# Dimension.\n",
    "dim=3\n",
    "\n",
    "# Vectors s and y.\n",
    "s=np.random.rand(dim)\n",
    "y=np.random.rand(dim)\n",
    "\n",
    "print(s)\n",
    "print(y)\n",
    "\n",
    "# Matrix A and its inverse.\n",
    "A=np.identity(dim)\n",
    "Ainv=np.linalg.inv(A)"
   ]
  },
  {
   "cell_type": "markdown",
   "metadata": {},
   "source": [
    "## 2. Standard BFGS update\n",
    "\n",
    "For reference, we compute the standard BFGS update of $\\mathbf{A}$."
   ]
  },
  {
   "cell_type": "code",
   "execution_count": null,
   "metadata": {},
   "outputs": [],
   "source": [
    "# Standard BFGS update. ================================\n",
    "\n",
    "# Precompute some quantities.\n",
    "I=np.identity(dim)\n",
    "rho=1.0/np.dot(s,y)\n",
    "sy=rho*np.tensordot(s,y,axes=0)\n",
    "ss=rho*np.tensordot(s,s,axes=0)\n",
    "\n",
    "# Perform actual BFGS update.\n",
    "A_new=np.matmul(np.matmul((I-sy),A),(I-sy.transpose()))+ss\n",
    "\n",
    "# Print some output for checking.\n",
    "print(A_new)\n",
    "print(np.linalg.inv(A_new))"
   ]
  },
  {
   "cell_type": "markdown",
   "metadata": {},
   "source": [
    "## 3. Factorised BFGS update\n",
    "\n",
    "For the factorised BFGS update, we proceed in several steps: (1) compute $\\gamma^2$ and $\\beta=\\gamma^2 \\mathbf{s}^T\\mathbf{A}^{-1}\\mathbf{s}$, (2) from $\\gamma$ and $\\beta$ compute $\\theta$, (3) compute the auxiliary vectors $\\mathbf{a}$ and $\\mathbf{b}$, (4) finally compute the vectors $\\mathbf{u}$ and $\\mathbf{v}$ and the matrix factor $\\mathbf{S}=(\\mathbf{I}+\\mathbf{u}\\mathbf{v}^T)$.\n",
    "\n",
    "The update of the inverse $\\mathbf{A}^{-1}$ is then computed from $\\mathbf{S}=(\\mathbf{I}+\\mathbf{u}\\mathbf{v}^T)$ using the Sherman-Morrison formula."
   ]
  },
  {
   "cell_type": "code",
   "execution_count": null,
   "metadata": {},
   "outputs": [],
   "source": [
    "# Partitioned BFGS update of A. ========================\n",
    "\n",
    "# Precompute some quantities.\n",
    "gamma2=rho**2 * np.dot(y,np.dot(A,y)) + rho\n",
    "beta=gamma2 * np.dot(s,np.dot(Ainv,s))\n",
    "theta=np.sqrt(rho/(beta*gamma2))\n",
    "\n",
    "# Compute vectors a and b.\n",
    "a=np.sqrt(gamma2)*s\n",
    "b=(rho/np.sqrt(gamma2))*np.dot(A,y)\n",
    "\n",
    "# Compute vectors u and v.\n",
    "u=a\n",
    "v=-np.dot(Ainv,b+theta*a)\n",
    "\n",
    "# Compute partitioned matrix S.\n",
    "S=I+np.tensordot(u,v,axes=0)\n",
    "\n",
    "# Compute updated Matrix A_new_f.\n",
    "A_new_f=np.matmul(S,np.matmul(A,S.transpose()))\n",
    "\n",
    "# Partitioned BFGS update of Ainv. =====================\n",
    "\n",
    "# Apply Sherman-Morrison formula to find inverse of S.\n",
    "Sinv=I-np.tensordot(u,v,axes=0)/(1.0+np.dot(u,v))\n",
    "\n",
    "# Compute inverse of updated matrix.\n",
    "Ainv_new_f=np.matmul(Sinv.transpose(),np.matmul(Ainv,Sinv))\n",
    "\n",
    "# Update determinant. ==================================\n",
    "det_new=np.linalg.det(A)*(1.0+np.dot(u,v))**2\n",
    "\n",
    "# Print some output for checking. ======================\n",
    "print(A_new_f-A_new)\n",
    "print(Ainv_new_f-np.linalg.inv(A_new))\n",
    "\n",
    "print(np.linalg.det(A_new_f))\n",
    "print(det_new)"
   ]
  }
 ],
 "metadata": {
  "kernelspec": {
   "display_name": "Python 3",
   "language": "python",
   "name": "python3"
  },
  "language_info": {
   "codemirror_mode": {
    "name": "ipython",
    "version": 3
   },
   "file_extension": ".py",
   "mimetype": "text/x-python",
   "name": "python",
   "nbconvert_exporter": "python",
   "pygments_lexer": "ipython3",
   "version": "3.6.10"
  }
 },
 "nbformat": 4,
 "nbformat_minor": 2
}
