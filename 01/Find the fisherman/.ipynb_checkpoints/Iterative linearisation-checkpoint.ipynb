{
 "cells": [
  {
   "cell_type": "markdown",
   "metadata": {},
   "source": [
    "# Iterative linearisation\n",
    "\n",
    "In this notebook, we approximate the oscillation frequency of a sine function by iterative linearisation of a nonlinear least-squares misfit function."
   ]
  },
  {
   "cell_type": "markdown",
   "metadata": {},
   "source": [
    "# 0. Packages and setup\n",
    "\n",
    "We begin with the import of some Python packages and a few lines to embellish figures."
   ]
  },
  {
   "cell_type": "code",
   "execution_count": null,
   "metadata": {},
   "outputs": [],
   "source": [
    "# Some Python packages.\n",
    "import numpy as np\n",
    "import matplotlib as mpl\n",
    "import matplotlib.pyplot as plt\n",
    "from scipy.stats import vonmises\n",
    "\n",
    "# Set some parameters to make plots nicer.\n",
    "plt.rcParams[\"font.family\"] = \"serif\"\n",
    "plt.rcParams.update({'font.size': 40})\n",
    "plt.rcParams['xtick.major.pad']='10'\n",
    "plt.rcParams['ytick.major.pad']='10'"
   ]
  },
  {
   "cell_type": "markdown",
   "metadata": {},
   "source": [
    "# 1. Misfit curves\n",
    "\n",
    "The next step is to compute artificial data, in our case a sine curve sampled at regular points in time. To visualise the problem, we plot the misfit as well as its linearisation around some starting model. In the interest of having a clean code, we define the misfit and its linearised version as separate functions."
   ]
  },
  {
   "cell_type": "code",
   "execution_count": null,
   "metadata": {},
   "outputs": [],
   "source": [
    "# Observation times.\n",
    "t_obs=np.arange(0.0,4.0*np.pi,0.1)\n",
    "N=len(t_obs)\n",
    "\n",
    "# Make observations.\n",
    "d_obs=np.sin(2.0*t_obs)"
   ]
  },
  {
   "cell_type": "code",
   "execution_count": null,
   "metadata": {},
   "outputs": [],
   "source": [
    "# Misfit function.\n",
    "def chi(m,m0):\n",
    "    misfit=0.0\n",
    "    for i in range(len(t_obs)): misfit+=0.5*(d_obs[i]-np.sin(m*t_obs[i]))**2\n",
    "    return misfit+0.5*(m-m0)**2"
   ]
  },
  {
   "cell_type": "code",
   "execution_count": null,
   "metadata": {},
   "outputs": [],
   "source": [
    "# Linearised version of the misfit function.\n",
    "def chi_lin(m,mi):\n",
    "    misfit=0.0\n",
    "    for i in range(len(t_obs)): misfit+=0.5*(d_obs[i]-( np.sin(mi*t_obs[i])+t_obs[i]*np.cos(mi*t_obs[i])*(m-mi) )  )**2\n",
    "    return misfit+(m-mi)"
   ]
  },
  {
   "cell_type": "code",
   "execution_count": null,
   "metadata": {},
   "outputs": [],
   "source": [
    "# Range of model parameters for plotting.\n",
    "m=np.arange(1.0,3.0,0.01)\n",
    "# Initial model around which we linearise first.\n",
    "m0=1.8\n",
    "\n",
    "# Plot observed and prior model.\n",
    "t=np.arange(0.0,4.0*np.pi,0.01)\n",
    "plt.figure(figsize=(20,10))\n",
    "plt.plot(t,np.sin(2.0*t),'k',linewidth=4)\n",
    "plt.plot(t_obs,np.sin(2.0*t_obs),'ko',markersize=10)\n",
    "plt.plot(t,np.sin(m0*t),'--',color=[0.75,0.75,0.75],linewidth=2)\n",
    "plt.plot(t_obs,np.sin(m0*t_obs),'ko')\n",
    "plt.grid()\n",
    "plt.xlabel(r'$t$ [s]',labelpad=15)\n",
    "plt.ylabel('$d$',labelpad=15)\n",
    "plt.xlim([0.0,4.0*np.pi])\n",
    "plt.tight_layout()\n",
    "plt.savefig('data.pdf',format='pdf')\n",
    "plt.show()\n",
    "\n",
    "# Plot misfit.\n",
    "plt.figure(figsize=(20,10))\n",
    "plt.plot(m,chi(m,m0),'k',linewidth=4)\n",
    "plt.plot(m,chi_lin(m,m0),'--',color=[0.5,0.5,0.5],linewidth=2)\n",
    "plt.grid()\n",
    "plt.xlabel(r'$m$ [s$^{-1}$]',labelpad=15)\n",
    "plt.ylabel(r'$\\chi$',labelpad=15)\n",
    "plt.xlim([1.0,3.0])\n",
    "plt.ylim([-10.0,100.0])\n",
    "plt.tight_layout()\n",
    "plt.savefig('misfit.pdf',format='pdf')\n",
    "plt.show()"
   ]
  },
  {
   "cell_type": "markdown",
   "metadata": {},
   "source": [
    "# 2. Iterative linearisation\n",
    "\n",
    "To perform the iterative linearisation, we first define the forward model $\\mathbf{G}$ and its derivative $\\mathbf{J}$ as functions. Then we perform a couple of iterations to see how that misfit, the linearised misfit, and the model actually develop."
   ]
  },
  {
   "cell_type": "code",
   "execution_count": null,
   "metadata": {},
   "outputs": [],
   "source": [
    "def G(mi):\n",
    "    return np.matrix(np.sin(mi[0,0]*t_obs)).T"
   ]
  },
  {
   "cell_type": "code",
   "execution_count": null,
   "metadata": {},
   "outputs": [],
   "source": [
    "def J(mi):\n",
    "    return np.matrix(t_obs*np.cos(mi[0,0]*t_obs)).T"
   ]
  },
  {
   "cell_type": "code",
   "execution_count": null,
   "metadata": {},
   "outputs": [],
   "source": [
    "# Plot initial misfit curve.\n",
    "fig1=plt.figure(1,figsize=(20,10))\n",
    "plt.plot(m,chi(m,m0),'k',linewidth=4)\n",
    "plt.plot(m,chi_lin(m,m0),'--',color=[0.5,0.5,0.5],linewidth=2)\n",
    "plt.grid()\n",
    "plt.xlabel(r'$m$ [s$^{-1}$]',labelpad=15)\n",
    "plt.ylabel(r'$\\chi$',labelpad=15)\n",
    "plt.xlim([1.0,3.0])\n",
    "plt.ylim([-10.0,100.0])\n",
    "\n",
    "# Plot initial model.\n",
    "fig2=plt.figure(2,figsize=(20,10))\n",
    "plt.plot(t,np.sin(2.0*t),'k',linewidth=4)\n",
    "plt.plot(t_obs,np.sin(2.0*t_obs),'ko',markersize=10)\n",
    "plt.plot(t,np.sin(m0*t),'--',color=[0.75,0.75,0.75],linewidth=2)\n",
    "plt.plot(t_obs,np.sin(m0*t_obs),'ko')\n",
    "plt.grid()\n",
    "plt.xlabel(r'$t$ [s]',labelpad=15)\n",
    "plt.ylabel('$d$',labelpad=15)\n",
    "plt.xlim([0.0,4.0*np.pi])\n",
    "\n",
    "# Number of iterations.\n",
    "nit=5\n",
    "\n",
    "# Turn observations and model into a matrix.\n",
    "d_obs_mat=np.matrix(d_obs).T\n",
    "mi=np.matrix(m0)\n",
    "\n",
    "for it in range(nit):\n",
    "    \n",
    "    # Compute data residual.\n",
    "    delta=d_obs_mat-G(mi)\n",
    "    \n",
    "    # Solve linear system and update.\n",
    "    invJJT=np.linalg.inv(1.0*np.identity(N)+np.matmul(J(mi),J(mi).T))\n",
    "    mi+=np.dot(J(mi).T,np.dot(invJJT,delta))\n",
    "    print(mi)\n",
    "    \n",
    "    # Plot misfit.\n",
    "    plt.figure(1)\n",
    "    plt.plot(m,chi_lin(m,mi[0,0]),'--',color=[0.5,0.5,0.5],linewidth=2)\n",
    "    \n",
    "    # Plot model.\n",
    "    plt.figure(2)\n",
    "    plt.plot(t,np.sin(mi[0,0]*t),'--',color=[0.5,0.5,0.5],linewidth=2)\n",
    "    plt.plot(t_obs,np.sin(mi[0,0]*t_obs),'ko')\n",
    "    \n",
    "plt.figure(1)\n",
    "plt.tight_layout()\n",
    "plt.savefig('misfit_evolution.pdf',format='pdf')\n",
    "plt.figure(2)\n",
    "plt.tight_layout()\n",
    "plt.savefig('data_evolution.pdf',format='pdf')"
   ]
  }
 ],
 "metadata": {
  "kernelspec": {
   "display_name": "Python 3",
   "language": "python",
   "name": "python3"
  },
  "language_info": {
   "codemirror_mode": {
    "name": "ipython",
    "version": 3
   },
   "file_extension": ".py",
   "mimetype": "text/x-python",
   "name": "python",
   "nbconvert_exporter": "python",
   "pygments_lexer": "ipython3",
   "version": "3.8.3"
  }
 },
 "nbformat": 4,
 "nbformat_minor": 4
}
