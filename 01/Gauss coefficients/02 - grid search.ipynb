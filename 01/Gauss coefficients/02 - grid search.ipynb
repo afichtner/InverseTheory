{
 "cells": [
  {
   "cell_type": "markdown",
   "metadata": {},
   "source": [
    "# Recovering Gauss coefficients by grid search\n",
    "\n",
    "In this notebook, we compute the posterior distribution for the geomagnetic problem using a simple grid search. For this, we discretise the model space on a regular grid and evaluate the prior distributions for all trial models. Owing to the rapidly increasing number of trial models with increasing model space dimension, this is only computationally feasible in 1-D and 2-D."
   ]
  },
  {
   "cell_type": "markdown",
   "metadata": {},
   "source": [
    "# 0. Import some Python packages\n",
    "\n",
    "We begin by importing some Python packages and for plotting."
   ]
  },
  {
   "cell_type": "code",
   "execution_count": null,
   "metadata": {},
   "outputs": [],
   "source": [
    "# Some Python packages.\n",
    "import magnetic as magnetic\n",
    "import random\n",
    "import numpy as np\n",
    "import matplotlib.pyplot as plt\n",
    "from numpy.linalg import norm\n",
    "import time\n",
    "\n",
    "# Set some parameters to make plots nicer.\n",
    "\n",
    "plt.rcParams[\"font.family\"] = \"serif\"\n",
    "plt.rcParams.update({'font.size': 25})"
   ]
  },
  {
   "cell_type": "markdown",
   "metadata": {},
   "source": [
    "# 1. Initialisations"
   ]
  },
  {
   "cell_type": "markdown",
   "metadata": {},
   "source": [
    "Read the Gauss coefficients from the IGRF13 model. These will be used as ground-thruth parameters that we try to estimate."
   ]
  },
  {
   "cell_type": "code",
   "execution_count": null,
   "metadata": {},
   "outputs": [],
   "source": [
    "# Read Gauss coefficients from IGRF13.\n",
    "g_igrf13,h_igrf13=magnetic.read_coefficients()"
   ]
  },
  {
   "cell_type": "markdown",
   "metadata": {},
   "source": [
    "For convenience, we define two functions that implement the priors in data and in model space. This is done in magnetic.py, which we imported above.\n",
    "\n",
    "**Exercise 1**: Plot the data prior prior_data( ) for $d^{obs}=0$.\n",
    "\n",
    "The key prior information on the spherical harmonics coefficients is that the energy of the magnetic field must be finite. The energy $E$ is equal to the squared sum of all coefficients, that is, $\\sum_{\\ell=0}^\\infty \\sum_{m=0}^\\ell [(g_\\ell^m)^2+(h_\\ell^m)^2]$. $$ $$\n",
    "\n",
    "**Exercise 2**: Plot the model space prior prior_model( ) as a function of the energy $E$."
   ]
  },
  {
   "cell_type": "markdown",
   "metadata": {},
   "source": [
    "We define the colatitude and longitude of the observation points."
   ]
  },
  {
   "cell_type": "code",
   "execution_count": null,
   "metadata": {},
   "outputs": [],
   "source": [
    "# Observation points.\n",
    "\n",
    "# Example of just one observation point.\n",
    "theta_obs=np.array([0.2])\n",
    "phi_obs=np.array([0.149])\n",
    "\n",
    "# Example with three observation points.\n",
    "#theta_obs=np.array([0.2, 0.7, 1.5])\n",
    "#phi_obs=np.array([0.149, 1.0, 2.0])"
   ]
  },
  {
   "cell_type": "code",
   "execution_count": null,
   "metadata": {},
   "outputs": [],
   "source": [
    "# Precompute associated Legendre functions to accelerate computations.\n",
    "Pnmi=magnetic.Pnmi(theta_obs,ell_max=1)"
   ]
  },
  {
   "cell_type": "markdown",
   "metadata": {},
   "source": [
    "# 2. Grid search in 1D\n",
    "\n",
    "We begin by trying to estimate only one model parameter, namely $g_1^0$. For this, we produce artificial observations by solving the forward problem with only $g_1^0 \\neq 0$."
   ]
  },
  {
   "cell_type": "code",
   "execution_count": null,
   "metadata": {},
   "outputs": [],
   "source": [
    "# Make the ground-truth model by reading Gauss coefficients from IGRF13 and using only the first one.\n",
    "g=np.zeros(np.shape(g_igrf13))\n",
    "h=np.zeros(np.shape(g_igrf13))\n",
    "g[1,0]=g_igrf13[1,0]\n",
    "\n",
    "# Compute the magnetic field values for the observation points.\n",
    "d_obs=magnetic.B_field(phi_obs,theta_obs,g,h).diagonal()"
   ]
  },
  {
   "cell_type": "markdown",
   "metadata": {},
   "source": [
    "The next code block plots the magnetic field and the observation points on a map."
   ]
  },
  {
   "cell_type": "code",
   "execution_count": null,
   "metadata": {},
   "outputs": [],
   "source": [
    "# Compute magnetic field for longitude and colatitude arrays.\n",
    "theta=np.arange(0.0,np.pi,0.05)\n",
    "phi=np.arange(0.0,2.0*np.pi,0.05)\n",
    "\n",
    "d_plot=magnetic.B_field(phi,theta,g,h,ell_max=1)\n",
    "t2=time.time()\n",
    "\n",
    "# Plot radial component of the magnetic field.\n",
    "colat,lon=np.meshgrid(phi,theta)\n",
    "\n",
    "plt.subplots(1, figsize=(22,10))\n",
    "plt.gca().invert_yaxis()\n",
    "plt.pcolor(180.0*colat/np.pi,180.0*lon/np.pi,d_plot, cmap=plt.cm.get_cmap('Greys'))\n",
    "plt.colorbar()\n",
    "plt.contour(180.0*colat/np.pi,180.0*lon/np.pi,d_plot, colors='k')\n",
    "plt.plot(180.0*phi_obs/np.pi,180.0*theta_obs/np.pi,'ro',markersize=10)\n",
    "plt.grid()\n",
    "plt.xlabel('longitude [°]',labelpad=15)\n",
    "plt.ylabel('colatitude [°]',labelpad=15)\n",
    "plt.title('magnetic field, radial component',pad=20)\n",
    "plt.show()"
   ]
  },
  {
   "cell_type": "markdown",
   "metadata": {},
   "source": [
    "Based on these preparations, we can now run a 1-D grid search by simply marching through a pre-defined array for $g_1^0$ test values.\n",
    "\n",
    "**Exercise 3**: Sample the posterior by running the code below and discuss the results. (What is the value of the maximum-likelihood coefficient? Provide a visual guess of the standard deviation. Does the posterior have more than one peak?)\n",
    "\n",
    "**Exercise 4**: Repeat the probabilistic inversion with just one observation point. How does the reduction of observation points affect the quality of your inference?\n",
    "\n",
    "**Exercise 5**: Repeat the inversion with 20 observation points. How does the increase of observation points affect the quality of your inference?"
   ]
  },
  {
   "cell_type": "code",
   "execution_count": null,
   "metadata": {},
   "outputs": [],
   "source": [
    "# Initialise the values for which to evaluate the posterior.\n",
    "g_test=np.zeros(np.shape(g_igrf13))\n",
    "h_test=np.zeros(np.shape(h_igrf13))\n",
    "\n",
    "dg=200.0\n",
    "g10=np.arange(-33000.0,-25000.0,dg)\n",
    "posterior=np.zeros(len(g10))\n",
    "\n",
    "t1=time.time()\n",
    "\n",
    "# March through all test values and evaluate the posterior by computing test data.\n",
    "for i in range(len(g10)):\n",
    "    \n",
    "    g_test[1,0]=g10[i]\n",
    "    \n",
    "    d=magnetic.B(phi_obs,theta_obs,g_test,h_test,Pnmi,ell_max=1)\n",
    "    posterior[i]=magnetic.prior_model(g_test,h_test,ell_max=1)*magnetic.prior_data(d,d_obs)\n",
    "   \n",
    "t2=time.time()\n",
    "print('elapsed time: %f s' % (t2-t1))\n",
    "\n",
    "# Normalise the posterior.\n",
    "normalisation=np.sum(posterior)*dg\n",
    "posterior=posterior/normalisation\n",
    "\n",
    "# Plot the posterior.   \n",
    "plt.subplots(1, figsize=(10,10))\n",
    "plt.plot(g10,posterior,'k',linewidth=2)\n",
    "plt.xlim((g10[0],g10[-1]))\n",
    "plt.xlabel(r'$g_1^0$ [nT]',labelpad=15)\n",
    "plt.ylabel('posterior',labelpad=15)\n",
    "plt.title('posterior probability density',pad=15)\n",
    "plt.grid()\n",
    "plt.show()"
   ]
  },
  {
   "cell_type": "markdown",
   "metadata": {},
   "source": [
    "# 3. Grid search in 2D\n",
    "\n",
    "Now we repeat the same for two non-zero model parameters, $g_1^0$ and $g_1^1$. First, we compute the artificial observations."
   ]
  },
  {
   "cell_type": "code",
   "execution_count": null,
   "metadata": {},
   "outputs": [],
   "source": [
    "# Make the ground-truth model. We choose only two Gauss coefficients from IGRF13.\n",
    "g=np.zeros(np.shape(g_igrf13))\n",
    "h=np.zeros(np.shape(g_igrf13))\n",
    "g[1,0]=g_igrf13[1,0]\n",
    "g[1,1]=g_igrf13[1,1]\n",
    "\n",
    "# Compute the magnetic field values for the observation points.\n",
    "d_obs=magnetic.B(phi_obs,theta_obs,g,h,Pnmi,ell_max=1)"
   ]
  },
  {
   "cell_type": "markdown",
   "metadata": {},
   "source": [
    "The next code block plots the magnetic field and the observation points on a map."
   ]
  },
  {
   "cell_type": "code",
   "execution_count": null,
   "metadata": {},
   "outputs": [],
   "source": [
    "# Compute magnetic field for longitude and colatitude arrays.\n",
    "theta=np.arange(0.0,np.pi,0.05)\n",
    "phi=np.arange(0.0,2.0*np.pi,0.05)\n",
    "\n",
    "d_plot=magnetic.B_field(phi,theta,g,h,ell_max=1)\n",
    "\n",
    "# Plot radial component of the magnetic field.\n",
    "colat,lon=np.meshgrid(phi,theta)\n",
    "\n",
    "plt.subplots(1, figsize=(22,10))\n",
    "plt.gca().invert_yaxis()\n",
    "plt.pcolor(180.0*colat/np.pi,180.0*lon/np.pi,d_plot, cmap=plt.cm.get_cmap('Greys'))\n",
    "plt.colorbar()\n",
    "plt.contour(180.0*colat/np.pi,180.0*lon/np.pi,d_plot, colors='k')\n",
    "plt.plot(180.0*phi_obs/np.pi,180.0*theta_obs/np.pi,'ro',markersize=10)\n",
    "plt.grid()\n",
    "plt.xlabel('longitude [°]',labelpad=15)\n",
    "plt.ylabel('colatitude [°]',labelpad=15)\n",
    "plt.title('magnetic field, radial component',pad=20)\n",
    "plt.show()"
   ]
  },
  {
   "cell_type": "markdown",
   "metadata": {},
   "source": [
    "Similar to the 1-D grid search, we now march through a 2-D array of pre-defined test values for $g_1^0$ and $g_1^1$.\n",
    "\n",
    "**Exercise 6**: Using the same data and model priors as before, we evaluate the posterior via a systematic grid search of all plausible values for $g_1^0$ and $g_1^1$. For this, run the code below and analyse the posterior distribution.\n",
    "\n",
    "**Exercise 7**: Repeat the inversion with only one observation point. Can the two coefficients still be constrained independently? Compare your results with those of your colleagues.\n",
    "\n",
    "**Exercise 8**: How much time is needed to invert for the 2 coefficients with 3 observation points? How does this time compare to the inversion for just 1 coefficient? For how many parameters do you think you can invert in less than 1 hour? Is grid search a feasible approach to the solution of large probabilistic inverse problems?"
   ]
  },
  {
   "cell_type": "code",
   "execution_count": null,
   "metadata": {},
   "outputs": [],
   "source": [
    "# Initialise the values for which to evaluate the posterior.\n",
    "g_test=np.zeros(np.shape(g_igrf13))\n",
    "h_test=np.zeros(np.shape(h_igrf13))\n",
    "\n",
    "dg=100.0\n",
    "g10=np.arange(-33000.0,-20000.0,dg)\n",
    "g11=np.arange(-15000.0,26000.0,dg)\n",
    "posterior=np.zeros((len(g10),len(g11)))\n",
    "\n",
    "t1=time.time()\n",
    "\n",
    "# March through all test values and evaluate the posterior by computing test data.\n",
    "for i in range(len(g10)):\n",
    "    for j in range(len(g11)):\n",
    "        \n",
    "        g_test[1,0]=g10[i]\n",
    "        g_test[1,1]=g11[j]\n",
    "        \n",
    "        d=magnetic.B(phi_obs,theta_obs,g_test,h_test,Pnmi,ell_max=1)\n",
    "        posterior[i,j]=magnetic.prior_model(g_test,h_test,ell_max=1)*magnetic.prior_data(d,d_obs)\n",
    "\n",
    "t2=time.time()\n",
    "print('elapsed time: %f s' % (t2-t1))\n",
    "        \n",
    "# Normalise the posterior.\n",
    "normalisation=np.sum(posterior)*dg*dg\n",
    "posterior=posterior/normalisation\n",
    "        \n",
    "# Plot.\n",
    "plt.subplots(1, figsize=(10,10))\n",
    "g10,g11=np.meshgrid(g11,g10)\n",
    "plt.pcolor(g11,g10,posterior, cmap=plt.cm.get_cmap('binary'))\n",
    "plt.xlabel(r'$g_1^0$ [nT]',labelpad=15)\n",
    "plt.ylabel(r'$g_1^1$ [nT]',labelpad=15)\n",
    "plt.colorbar()\n",
    "plt.title('posterior probability density',pad=15)\n",
    "plt.grid()\n",
    "plt.show()"
   ]
  },
  {
   "cell_type": "markdown",
   "metadata": {},
   "source": [
    "# 4. Spectral leakage\n",
    "\n",
    "The real magnetic field has, of course, infinitely many spherical harmonic coefficients. However, since our computational resources are finite, we have to truncate the expansion after a finite number of coefficients. The neglect of higher-order coefficients tends to pollute the lower-order coefficients that we wish to infer as accurately as possible. This phenomenon is referred to as *spectral leakage*. (The higher-order coefficients leak into the lower-order coefficients.)\n",
    "\n",
    "**Optional exercise 9**: Generate synthetic data for the complete set of coefficients from the IGRF13 model. Then invert these data under the assumption that only $g_1^0$ is different from $0$. Is it possible to obtain reliable results? $$ $$"
   ]
  }
 ],
 "metadata": {
  "kernelspec": {
   "display_name": "Python 3",
   "language": "python",
   "name": "python3"
  },
  "language_info": {
   "codemirror_mode": {
    "name": "ipython",
    "version": 3
   },
   "file_extension": ".py",
   "mimetype": "text/x-python",
   "name": "python",
   "nbconvert_exporter": "python",
   "pygments_lexer": "ipython3",
   "version": "3.8.3"
  }
 },
 "nbformat": 4,
 "nbformat_minor": 2
}
