{
 "cells": [
  {
   "cell_type": "markdown",
   "metadata": {},
   "source": [
    "# FD2Dpy\n",
    "\n",
    "This notebook implements forward and adjoint simulations of the 2-D scalar wave equation\n",
    "\n",
    "\\begin{equation}\n",
    "\\frac{1}{c^2(\\mathbf{x})} \\frac{\\partial^2}{\\partial t^2} u(\\mathbf{x},t) - \\Delta u(\\mathbf{x},t) = f(\\mathbf{x},t)\\,,\n",
    "\\end{equation}\n",
    "\n",
    "using a second-order, staggered-grid finite-difference method."
   ]
  },
  {
   "cell_type": "markdown",
   "metadata": {},
   "source": [
    "# 0. Python packages\n",
    "We start with the input of some Python packages and a few lines of code to make nicer figures."
   ]
  },
  {
   "cell_type": "code",
   "execution_count": null,
   "metadata": {},
   "outputs": [],
   "source": [
    "import filters as filters\n",
    "import numpy as np\n",
    "import matplotlib.pyplot as plt\n",
    "\n",
    "plt.rcParams[\"font.family\"] = \"Times\"\n",
    "plt.rcParams.update({'font.size': 50})\n",
    "plt.rcParams['xtick.major.pad']='12'\n",
    "plt.rcParams['ytick.major.pad']='12'"
   ]
  },
  {
   "cell_type": "markdown",
   "metadata": {},
   "source": [
    "# 1. Input parameters"
   ]
  },
  {
   "cell_type": "markdown",
   "metadata": {},
   "source": [
    "## 1.1. Spatial and temporal discretisation\n",
    "\n",
    "The numerical method that we use to solve the above wave equation rests on a finite-difference discretisation in space and time. Hence, in addition to the size of the domain, we need to define the number of spatial grid points in $x$- and $y$-direction, as well as the time increment and the total number of time steps."
   ]
  },
  {
   "cell_type": "code",
   "execution_count": null,
   "metadata": {},
   "outputs": [],
   "source": [
    "# Dimensions of the domain [m].\n",
    "Lx=100.0\n",
    "Ly=100.0\n",
    "# Number of grid points in x- and y-directions.\n",
    "nx=1001\n",
    "ny=1001\n",
    "# Time increment [s].\n",
    "dt=0.00008\n",
    "# Number of time steps.\n",
    "nt=3500"
   ]
  },
  {
   "cell_type": "code",
   "execution_count": null,
   "metadata": {},
   "outputs": [],
   "source": [
    "# Make coordinate lines.\n",
    "x=np.linspace(0.0,Lx,nx)\n",
    "y=np.linspace(0.0,Ly,ny)"
   ]
  },
  {
   "cell_type": "markdown",
   "metadata": {},
   "source": [
    "## 1.2. Velocity distribution\n",
    "\n",
    "The propagation of the wave is largely controlled by the properties of the medium, that is, the distribution of the wave speed $c$ in space. This distribution can be defined below."
   ]
  },
  {
   "cell_type": "code",
   "execution_count": null,
   "metadata": {},
   "outputs": [],
   "source": [
    "# Define velocity distribution.\n",
    "c=600.0*np.ones([nx,ny])\n",
    "\n",
    "#c[450:550,450:550]=500.0\n",
    "#c[225:275,225:275]=550.0\n",
    "\n",
    "#for i in range(100):\n",
    "#    c[1:nx-2,1:ny-2]=(c[1:nx-2,1:ny-2]+c[0:nx-3,1:ny-2]+c[2:nx-1,1:ny-2]+c[1:nx-2,0:ny-3]+c[1:nx-2,2:ny-1])/5.0\n",
    "\n",
    "# Plot velocity distribution.\n",
    "plt.subplots(1, figsize=(15,15))\n",
    "plt.pcolor(x,y,c.transpose(),cmap='Greys')\n",
    "plt.xlabel('x [m]',labelpad=15)\n",
    "plt.ylabel('y [m]',labelpad=15)\n",
    "plt.title('velocity distribution [m/s]',pad=20)\n",
    "#maxval=0.75*np.max(np.abs(c))\n",
    "#plt.clim([-maxval,maxval])\n",
    "plt.grid()\n",
    "plt.tight_layout()\n",
    "filename='OUTPUT/c.png'\n",
    "plt.savefig(filename,format='png',dpi=500)\n",
    "plt.show()"
   ]
  },
  {
   "cell_type": "markdown",
   "metadata": {},
   "source": [
    "## 1.3. Frequency content\n",
    "\n",
    "With a finite number of grid points, we cannot accurately simulate the propagation of waves with arbitrary frequency. Very low frequencies cannot be simulated because they may correspond to wavelengths that are larger than the computational domain. The same is true for very high frequencies because they correspond to wavelengths that may be too short for being represented accurately on a grid with rather coarse spacing. Hence, we need to ensure that the source of the wavefield only acts within a certain frequency band for which we expect reasonably accurate solutions. This frequency band is defined below."
   ]
  },
  {
   "cell_type": "code",
   "execution_count": null,
   "metadata": {},
   "outputs": [],
   "source": [
    "# Lower cutoff frequency [Hz]\n",
    "cutoff_low=50.0\n",
    "# Upper cutoff frequency [Hz]\n",
    "cutoff_high=200.0"
   ]
  },
  {
   "cell_type": "markdown",
   "metadata": {},
   "source": [
    "## 1.4. Source and receiver locations\n",
    "\n",
    "Below we define the location of the source and the locations of the receivers."
   ]
  },
  {
   "cell_type": "code",
   "execution_count": null,
   "metadata": {},
   "outputs": [],
   "source": [
    "# x- and y-coordinates of the source [m].\n",
    "x_src=25.0\n",
    "y_src=50.0\n",
    "\n",
    "# x- and y-coordinates of the receiver locations [m].\n",
    "x_rec=[75.0]\n",
    "y_rec=[50.0]"
   ]
  },
  {
   "cell_type": "markdown",
   "metadata": {},
   "source": [
    "## 1.5. Adjoint parameters\n",
    "\n",
    "For the computation of sensitivity kernels, the forward wavefield needs to be stored. To avoid excessive storage requirements, we only store the wavefield at a smaller (coarser) number of time steps."
   ]
  },
  {
   "cell_type": "code",
   "execution_count": null,
   "metadata": {},
   "outputs": [],
   "source": [
    "# Store forward wavefield every nt_store time steps only to save storage space.\n",
    "nt_store=5\n",
    "# Time steps where forward field is stored for adjoint runs.\n",
    "i_store=np.arange(0,nt,nt_store,dtype='int')"
   ]
  },
  {
   "cell_type": "markdown",
   "metadata": {},
   "source": [
    "# 2. Initialisation\n",
    "\n",
    "Prior to the actual numerical solution of the wave equation, we perform a few initialisation steps."
   ]
  },
  {
   "cell_type": "markdown",
   "metadata": {},
   "source": [
    "## 2.1. Grid spacing and stability\n",
    "\n",
    "In order to have an a priori estimate of solution quality and stability, we compute some easy diagnostics."
   ]
  },
  {
   "cell_type": "code",
   "execution_count": null,
   "metadata": {},
   "outputs": [],
   "source": [
    "# Compute grid spacing.\n",
    "\n",
    "dx=Lx/float(nx-1)\n",
    "dy=Ly/float(ny-1)\n",
    "\n",
    "print('grid spacing in x-direction: %g m' % dx)\n",
    "print('grid spacing in y-direction: %g m' % dy)\n",
    "\n",
    "# Compute stability criterion.\n",
    "\n",
    "dt_max=0.5*np.minimum(dx,dy)/np.amax(c)\n",
    "print('maximum allowable time step to ensure stability: %g s' % dt_max)\n",
    "print('current time step: %g s' % dt)\n",
    "\n",
    "# Grid points per minimum wavelength.\n",
    "lambda_min=np.min(c)/cutoff_high\n",
    "print('minimum wavelength: %g m' % lambda_min)\n",
    "print('grid points per minimum wavelength: %g (recommended at least 20)' % (lambda_min/np.max([dx,dy])))"
   ]
  },
  {
   "cell_type": "markdown",
   "metadata": {},
   "source": [
    "## 2.2. Source-time function\n",
    "\n",
    "The source time function is the time evolution of the source $f$. It is controlled by the frequency band that we defined above."
   ]
  },
  {
   "cell_type": "code",
   "execution_count": null,
   "metadata": {},
   "outputs": [],
   "source": [
    "# Make source-time function.\n",
    "t=np.arange(0.0,float(nt)*dt,dt)\n",
    "f=np.zeros(len(t))\n",
    "f[0]=1.0\n",
    "f=filters.butterworth_lp(f,t,cutoff_high,plot=False)\n",
    "f=filters.butterworth_hp(f,t,cutoff_low,plot=False)\n",
    "\n",
    "# Normalise by grid spacing to ensure that spatial delta function integrates to 1.\n",
    "f=f/(dx*dy)\n",
    "\n",
    "# Plot source time function.\n",
    "plt.subplots(1, figsize=(15,8))\n",
    "plt.plot(t,f,'k')\n",
    "plt.xlabel('t [s]')\n",
    "plt.ylabel('f')\n",
    "plt.title('source-time function', pad=20)\n",
    "plt.grid()\n",
    "plt.show()"
   ]
  },
  {
   "cell_type": "markdown",
   "metadata": {},
   "source": [
    "## 2.3. Source and receiver indices\n",
    "\n",
    "In order to inject the source at the right location, and to record the wavefield at the right locations, as well, we need to find their grid point indices."
   ]
  },
  {
   "cell_type": "code",
   "execution_count": null,
   "metadata": {},
   "outputs": [],
   "source": [
    "# Find source indices.\n",
    "nx_src=int(np.where(np.abs(x-x_src)==np.min(np.abs(x-x_src)))[0])\n",
    "ny_src=int(np.where(np.abs(y-y_src)==np.min(np.abs(y-y_src)))[0])\n",
    "\n",
    "# Find source indices.\n",
    "nx_rec=np.zeros(len(x_rec),dtype='int')\n",
    "ny_rec=np.zeros(len(y_rec),dtype='int')\n",
    "\n",
    "for i in range(len(x_rec)):\n",
    "    nx_rec[i]=int(np.where(np.abs(x-x_rec[i])==np.min(np.abs(x-x_rec[i])))[0])\n",
    "    ny_rec[i]=int(np.where(np.abs(y-y_rec[i])==np.min(np.abs(y-y_rec[i])))[0])"
   ]
  },
  {
   "cell_type": "markdown",
   "metadata": {},
   "source": [
    "## 2.4. Dynamic fields and velocity recordings at receivers\n",
    "\n",
    "Below, we define all the required dynamic fields, and we set them to $0$ in order to implement the quiescent initial condition that the medium is at rest for $t\\leq 0$."
   ]
  },
  {
   "cell_type": "code",
   "execution_count": null,
   "metadata": {},
   "outputs": [],
   "source": [
    "# Displacement field.\n",
    "u=np.zeros([nx,ny])\n",
    "# Velocity field.\n",
    "v=np.zeros([nx,ny])\n",
    "# Acceleration field.\n",
    "a=np.zeros([nx,ny])\n",
    "# Stress fields.\n",
    "sx=np.zeros([nx,ny])\n",
    "sy=np.zeros([nx,ny])\n",
    "\n",
    "# Stored velocity field for adjoint calculations.\n",
    "v_store=np.zeros([nx,ny,len(i_store)])\n",
    "\n",
    "# Recordings at receiver locations.\n",
    "v_rec=np.zeros([len(x_rec),len(t)])\n",
    "u_rec=np.zeros([len(x_rec),len(t)])"
   ]
  },
  {
   "cell_type": "markdown",
   "metadata": {},
   "source": [
    "# 3. Time evolution of the wavefield\n",
    "\n",
    "Finally, we advance the wavefield iteratively. On the fly, we record the wavefield at the receiver positions and store the velocities, needed later for the calculation of sensitivity kernels."
   ]
  },
  {
   "cell_type": "code",
   "execution_count": null,
   "metadata": {},
   "outputs": [],
   "source": [
    "c2=c**2\n",
    "\n",
    "for it in range(len(t)):\n",
    "    \n",
    "    # Record current velocity.\n",
    "    for i in range(len(x_rec)): \n",
    "        v_rec[i,it]=v[nx_rec[i],ny_rec[i]]\n",
    "        u_rec[i,it]=u[nx_rec[i],ny_rec[i]]\n",
    "    # Advance stress field.\n",
    "    sx[1:nx-1,:]+=(dt/dx)*(v[2:nx,:]-v[1:nx-1,:])\n",
    "    sy[:,1:ny-1]+=(dt/dy)*(v[:,2:ny]-v[:,1:ny-1])\n",
    "    # Approximate stress field at the boundary.\n",
    "    sx[0,:]=sx[1,:]\n",
    "    sx[nx-1,:]=sx[nx-2,:]\n",
    "    sy[:,0]=sy[:,1]\n",
    "    sy[:,ny-1]=sy[:,ny-2]\n",
    "    # Compute acceleration.\n",
    "    a[1:nx-1,1:ny-1]=(c2[1:nx-1,1:ny-1]/dx)*(sx[1:nx-1,1:ny-1]-sx[0:nx-2,1:ny-1])+(c2[1:nx-1,1:ny-1]/dy)*(sy[1:nx-1,1:ny-1]-sy[1:nx-1,0:ny-2])\n",
    "    a[nx_src,ny_src]+=c2[nx_src,ny_src]*f[it]\n",
    "    # Advance velocity field.\n",
    "    v+=dt*a\n",
    "    # Integrate to displacement field.\n",
    "    u+=v*dt\n",
    "    \n",
    "    # Store current velocity field for adjoint run.\n",
    "    if it in i_store:\n",
    "        idx=np.where(i_store==it)[0][0]\n",
    "        v_store[:,:,idx]=v[:,:]"
   ]
  },
  {
   "cell_type": "markdown",
   "metadata": {},
   "source": [
    "# 4. Visualise results\n",
    "\n",
    "In the boxes below we visualise the velocity and displacements fields, as well as the recordings at the receiver locations."
   ]
  },
  {
   "cell_type": "code",
   "execution_count": null,
   "metadata": {},
   "outputs": [],
   "source": [
    "# Wavefield at final time step.\n",
    "\n",
    "xx,yy=np.meshgrid(x,y)\n",
    "\n",
    "plt.subplots(1, figsize=(15,15))\n",
    "plt.pcolor(x,y,u.transpose(),cmap='Greys')\n",
    "plt.plot(x_src,y_src,'k*',MarkerSize=20)\n",
    "for i in range(len(x_rec)): plt.plot(x_rec[i],y_rec[i],'k^',MarkerSize=20)\n",
    "plt.xlabel('x [m]',labelpad=15)\n",
    "plt.ylabel('y [m]',labelpad=15)\n",
    "plt.title('displacement field [m/s]',pad=20)\n",
    "maxval=0.75*np.max(np.abs(u))\n",
    "plt.clim([-maxval,maxval])\n",
    "plt.grid()\n",
    "plt.tight_layout()\n",
    "filename='OUTPUT/u_'+str(nt)+'.png'\n",
    "plt.savefig(filename,format='png',dpi=500)\n",
    "plt.show()"
   ]
  },
  {
   "cell_type": "code",
   "execution_count": null,
   "metadata": {
    "scrolled": false
   },
   "outputs": [],
   "source": [
    "# Displacement recordings at receivers.\n",
    "scale=1.1*np.max(u_rec)\n",
    "plt.subplots(1, figsize=(25.0,2.0*len(x_rec)))\n",
    "for i in range(len(x_rec)): plt.plot(t,float(i)*scale+u_rec[i,:],'k')\n",
    "plt.xlabel('t [s]',labelpad=15)\n",
    "plt.xlim([0,nt*dt])\n",
    "plt.title('displacement recordings',pad=20)\n",
    "filename='OUTPUT/urec_'+str(nt)+'.png'\n",
    "plt.savefig(filename,format='png',dpi=500)\n",
    "plt.show()\n",
    "\n",
    "#np.save('t.npy',t)\n",
    "#np.save('u.npy',u_rec)"
   ]
  },
  {
   "cell_type": "markdown",
   "metadata": {},
   "source": [
    "# 5. Compute sensitivity kernel\n",
    "\n",
    "Following the solution of the forward problem, we can compute sensitivity kernels via the solution of the adjoint problem."
   ]
  },
  {
   "cell_type": "markdown",
   "metadata": {},
   "source": [
    "## 5.1. Compute adjoint sources\n",
    "\n",
    "As a first step, we need to compute the adjoint sources. Their precise form depends on the choice of the measurement or misfit functional, and so the box below may need modification, depending on what is needed."
   ]
  },
  {
   "cell_type": "raw",
   "metadata": {},
   "source": [
    "# Adjoint source for L2 waveform difference.\n",
    "#===========================================\n",
    "\n",
    "# Load artificial observations that have been computed before.\n",
    "u_obs=np.load('u_perturbed.npy')\n",
    "\n",
    "# Initialise adjoint source time functions.\n",
    "adsrc=np.zeros([len(x_rec),nt])\n",
    "\n",
    "# Accumulate adjoint sources.\n",
    "for i in range(len(x_rec)):\n",
    "    adsrc[i,:]=np.flip(u_obs[i,:]-u_rec[i,:])"
   ]
  },
  {
   "cell_type": "code",
   "execution_count": null,
   "metadata": {},
   "outputs": [],
   "source": [
    "# Adjoint source for cross-correlation time shift.\n",
    "#=================================================\n",
    "\n",
    "# Initialise adjoint source time functions.\n",
    "adsrc=np.zeros([len(x_rec),nt])\n",
    "\n",
    "# Define a time window.\n",
    "t_start=0.235\n",
    "t_end=0.242\n",
    "w=np.array([t<t_end]).astype('int')*np.array([t>t_start]).astype('float')\n",
    "w=w[0,:]\n",
    "\n",
    "# Accumulate adjoint sources.\n",
    "for i in range(len(x_rec)):\n",
    "    E=np.sum(w*v_rec[i,:]**2)*dt\n",
    "    adsrc[i,:]=np.flip(w*v_rec[i,:])/(E*dx*dy)"
   ]
  },
  {
   "cell_type": "code",
   "execution_count": null,
   "metadata": {},
   "outputs": [],
   "source": [
    "plt.subplots(1, figsize=(25.0,2.0*len(x_rec)))\n",
    "plt.plot(t,u_rec[0,:])\n",
    "plt.xlim([0.23,0.25])\n",
    "plt.show()"
   ]
  },
  {
   "cell_type": "markdown",
   "metadata": {},
   "source": [
    "## 5.2. Initialise adjoint dynamic fields and kernel\n",
    "\n",
    "Prior to the solution of the adjoint problem, we define all the required dynamic fields, and we set their initial values to $0$."
   ]
  },
  {
   "cell_type": "code",
   "execution_count": null,
   "metadata": {},
   "outputs": [],
   "source": [
    "# Adjoint velocity field.\n",
    "v_ad=np.zeros([nx,ny])\n",
    "# Adjoint acceleration field.\n",
    "a_ad=np.zeros([nx,ny])\n",
    "# Adjoint stress fields.\n",
    "sx_ad=np.zeros([nx,ny])\n",
    "sy_ad=np.zeros([nx,ny])\n",
    "# Sensitivity kernel.\n",
    "K=np.zeros([nx,ny])"
   ]
  },
  {
   "cell_type": "markdown",
   "metadata": {},
   "source": [
    "## 5.3. Propagate adjoint field and compute kernel on the fly\n",
    "\n",
    "Since the wave equation defined above is self-adjoint, the numerical solution of the adjoint problem is essentially a copy of the forward problem solution above."
   ]
  },
  {
   "cell_type": "code",
   "execution_count": null,
   "metadata": {},
   "outputs": [],
   "source": [
    "# Iterative time stepping of adjoint field.\n",
    "\n",
    "for it in range(len(t)):\n",
    "    \n",
    "    # Advance adjoint stress field.\n",
    "    sx_ad[1:nx-1,:]+=(dt/dx)*(v_ad[2:nx,:]-v_ad[1:nx-1,:])\n",
    "    sy_ad[:,1:ny-1]+=(dt/dy)*(v_ad[:,2:ny]-v_ad[:,1:ny-1])\n",
    "    # Approximate stress field at the boundary.\n",
    "    sx_ad[0,:]=sx_ad[1,:]\n",
    "    sx_ad[nx-1,:]=sx_ad[nx-2,:]\n",
    "    sy_ad[:,0]=sy_ad[:,1]\n",
    "    sy_ad[:,ny-1]=sy_ad[:,ny-2]\n",
    "    # Compute acceleration.\n",
    "    a_ad[1:nx-1,1:ny-1]=(c2[1:nx-1,1:ny-1]/dx)*(sx_ad[1:nx-1,1:ny-1]-sx_ad[0:nx-2,1:ny-1])+(c2[1:nx-1,1:ny-1]/dy)*(sy_ad[1:nx-1,1:ny-1]-sy_ad[1:nx-1,0:ny-2])\n",
    "    # Add adjoint sources.\n",
    "    for i in range(len(x_rec)): a_ad[nx_rec[i],ny_rec[i]]+=c2[nx_rec[i],ny_rec[i]]*adsrc[i,it]\n",
    "    # Advance velocity field.\n",
    "    v_ad+=dt*a_ad\n",
    "    \n",
    "    # Accumulate sensitivity kernel.\n",
    "    it_rev=len(t)-it\n",
    "    if it_rev in i_store: \n",
    "        idx=np.where(i_store==it_rev)[0][0]\n",
    "        K+=v_ad*v_store[:,:,idx]\n",
    "        \n",
    "# Correct scaling of sensitivity kernel.\n",
    "K=-2.0*dt*K*float(nt_store)/c**3"
   ]
  },
  {
   "cell_type": "markdown",
   "metadata": {},
   "source": [
    "## 5.4. Visualisation\n",
    "\n",
    "Finally, we visualise the sensitivity kernel."
   ]
  },
  {
   "cell_type": "code",
   "execution_count": null,
   "metadata": {},
   "outputs": [],
   "source": [
    "plt.subplots(1, figsize=(15,15))\n",
    "plt.pcolor(xx,yy,K.transpose(),cmap='Greys')\n",
    "plt.plot(x_src,y_src,'k*',MarkerSize=20)\n",
    "for i in range(len(x_rec)): plt.plot(x_rec[i],y_rec[i],'k^',MarkerSize=20)\n",
    "plt.xlabel('x [m]',labelpad=15)\n",
    "plt.ylabel('y [m]',labelpad=15)\n",
    "plt.title('sensitivity kernel',pad=20)\n",
    "maxval=0.15*np.max(np.abs(K))\n",
    "plt.clim([-maxval,maxval])\n",
    "plt.grid()\n",
    "plt.tight_layout()\n",
    "plt.colorbar()\n",
    "plt.savefig('OUTPUT/kernel.png',format='png',dpi=500)\n",
    "plt.show()"
   ]
  }
 ],
 "metadata": {
  "kernelspec": {
   "display_name": "Python 3",
   "language": "python",
   "name": "python3"
  },
  "language_info": {
   "codemirror_mode": {
    "name": "ipython",
    "version": 3
   },
   "file_extension": ".py",
   "mimetype": "text/x-python",
   "name": "python",
   "nbconvert_exporter": "python",
   "pygments_lexer": "ipython3",
   "version": "3.6.10"
  }
 },
 "nbformat": 4,
 "nbformat_minor": 4
}
