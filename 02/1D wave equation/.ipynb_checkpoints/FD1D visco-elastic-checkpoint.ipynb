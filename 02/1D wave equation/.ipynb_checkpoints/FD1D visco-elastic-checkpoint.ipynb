{
 "cells": [
  {
   "cell_type": "markdown",
   "metadata": {},
   "source": [
    "# 1D FD Forward and Adjoint Wave Propagation\n",
    "\n",
    "This little notebook implements frequency-domain wave propagation in 1D using second-order finite differences in space. It includes the solution of the forward problem and the adjoint-based computation of a misfit gradient. Furthermore, the numerical accuracy of the gradients is checked using gradient tests, including the hockey-stick test.\n",
    "\n",
    "**copyright**: Andreas Fichtner (andreas.fichtner@erdw.ethz.ch), December 2020,\n",
    "\n",
    "**license**: BSD 3-Clause (\\\"BSD New\\\" or \\\"BSD Simplified\\\")"
   ]
  },
  {
   "cell_type": "markdown",
   "metadata": {},
   "source": [
    "## 0. Python packages"
   ]
  },
  {
   "cell_type": "code",
   "execution_count": null,
   "metadata": {},
   "outputs": [],
   "source": [
    "import numpy as np\n",
    "import scipy.sparse as sp\n",
    "import scipy.sparse.linalg as sla\n",
    "import matplotlib.pyplot as plt\n",
    "\n",
    "plt.rcParams[\"font.family\"] = \"serif\"\n",
    "plt.rcParams.update({'font.size': 70})\n",
    "plt.rcParams['xtick.major.pad']='12'\n",
    "plt.rcParams['ytick.major.pad']='12'"
   ]
  },
  {
   "cell_type": "markdown",
   "metadata": {},
   "source": [
    "## 1. Input\n",
    "\n",
    "Our simulations need only a small number of input parameters: the total number of grid points along the line (n), the spacing between these grid points (dx), the frequency of the monochromatic waves (f), the grid point indices where the sources are located (ns), and the grid point indices where we make the measurements (rix)."
   ]
  },
  {
   "cell_type": "code",
   "execution_count": null,
   "metadata": {},
   "outputs": [],
   "source": [
    "# Number of grid points.\n",
    "n=1000\n",
    "# Space increment [m].\n",
    "dx=1000.0\n",
    "# Frequencies [Hz].\n",
    "#f=[0.15,0.20,0.25,0.30,0.35,0.40,0.45]\n",
    "f=[0.25,0.15]\n",
    "# Indices of point source locations.\n",
    "#ns=[100,200,300,400,500,600,700,800,900]\n",
    "ns=[400]\n",
    "# Measurement indices (receiver locations).\n",
    "rix=[50,150,250,350,450,550,650,750,850,950]"
   ]
  },
  {
   "cell_type": "markdown",
   "metadata": {},
   "source": [
    "## 2. Initialisations\n",
    "\n",
    "We need to initialise various field variables, namely the true velocity distribution that one may want to recover (c_obs), the initial velocity distribution (c), and the spatial distribution of the sources (s)."
   ]
  },
  {
   "cell_type": "code",
   "execution_count": null,
   "metadata": {},
   "outputs": [],
   "source": [
    "# Types of models.\n",
    "model_type='boxes1'\n",
    "\n",
    "# Make and plot velocity distribution [m/s].\n",
    "x=np.arange(0.0,n*dx,dx)\n",
    "\n",
    "if model_type=='spike':\n",
    "    c=3000.0*np.ones(n,dtype=np.cfloat)+1.0j*40.0\n",
    "    c_obs=3000.0*np.ones(n,dtype=np.cfloat)+1.0j*40.0\n",
    "    c_obs[520]=4000.0+1.0j*30.0\n",
    "\n",
    "elif model_type=='boxes1':\n",
    "    c_obs=3000.0*np.ones(n,dtype=np.cfloat)+1.0j*40.0\n",
    "    c_obs[30:100]=2000.0+1.0j*60.0\n",
    "    c_obs[150:200]=3500.0+1.0j*10.0\n",
    "    c_obs[200:400]=2500.0+1.0j*40.0\n",
    "    c_obs[450:600]=2200.0+1.0j*100.0\n",
    "    c_obs[700:850]=4000.0+1.0j*10.0\n",
    "    \n",
    "    c=0.9*c_obs.copy()\n",
    "    for i in range(100):\n",
    "        c[1:n-1]=(c[0:n-2]+c[2:n]+c[1:n-1])/3.0\n",
    "        \n",
    "\n",
    "# Plot models.\n",
    "plt.subplots(1,figsize=(30,10))\n",
    "plt.plot(x/1000.0,np.real(c_obs),'k',LineWidth=4)\n",
    "plt.plot(x/1000.0,np.real(c),'--',color=[0.5,0.5,0.5],LineWidth=5)\n",
    "plt.xlabel(r'$x$ [km]')\n",
    "plt.ylabel(r'$c^{re}$ [m/s]',labelpad=20)\n",
    "plt.ylim(0.9*np.min(np.real(c)),1.2*np.max(np.real(c)))\n",
    "plt.xlim([x[0]/1000.0,x[-1]/1000.0])\n",
    "plt.grid()\n",
    "plt.title('real velocity distribution (black=true, red=initial)',pad=40)\n",
    "plt.savefig('OUTPUT_forward/velocity_real.pdf',bbox_inches='tight',format='pdf')\n",
    "plt.show()\n",
    "\n",
    "plt.subplots(1,figsize=(30,10))\n",
    "plt.plot(x/1000.0,np.imag(c_obs),'k',LineWidth=4)\n",
    "plt.plot(x/1000.0,np.imag(c),'--',color=[0.5,0.5,0.5],LineWidth=5)\n",
    "plt.xlabel(r'$x$ [km]')\n",
    "plt.ylabel(r'$c^{im}$ [m/s]',labelpad=20)\n",
    "plt.ylim(0.3*np.min(np.imag(c)),1.2*np.max(np.imag(c)))\n",
    "plt.xlim([x[0]/1000.0,x[-1]/1000.0])\n",
    "plt.grid()\n",
    "plt.title('imaginary velocity distribution (black=true, red=initial)',pad=40)\n",
    "plt.savefig('OUTPUT_forward/velocity_imag.pdf',bbox_inches='tight',format='pdf')\n",
    "plt.show()\n",
    "\n",
    "# Wavelength and number of grid points per wavelength.\n",
    "lambda_min=np.min(np.real(c))/np.max(f)\n",
    "lambda_max=np.max(np.real(c))/np.max(f)\n",
    "gppmw=lambda_min/dx\n",
    "\n",
    "print('minimum wavelength: %f m' % lambda_min)\n",
    "print('maximum wavelength: %f m' % lambda_max)\n",
    "print('grid points per minimum wavelength: %f' % gppmw)"
   ]
  },
  {
   "cell_type": "markdown",
   "metadata": {},
   "source": [
    "## 3. Forward problem solution\n",
    "\n",
    "We solve the forward problem using second-order central finite differences in space. Hence, the impedance matrix $\\mathbf{L}$ is defined through its action on the discrete wavefield $\\mathbf{u}$ as\n",
    "\\begin{equation}\n",
    "L_{ij}u_j = \\omega^2 u_i + \\frac{c_i^2}{dx^2} [u_{i+1}-2u_i+u_{i-1}]\\,.\n",
    "\\end{equation}\n",
    "The complete discrete system is then\n",
    "\\begin{equation}\n",
    "\\mathbf{Lu}=-\\mathbf{s}\\,.\n",
    "\\end{equation}\n",
    "Numerically, we solve the problem with a sparse LU decomposition. This allows us to quickly solve the problem for many different sources. $$ $$"
   ]
  },
  {
   "cell_type": "code",
   "execution_count": null,
   "metadata": {},
   "outputs": [],
   "source": [
    "def forward(n,dx,c,ns,f):\n",
    "    \"\"\"\n",
    "    Forward problem solution via LU decomposition.\n",
    "    :param n: number of grid points\n",
    "    :param dx: spatial finite-difference increment\n",
    "    :param c: velocity distribution of dimension n\n",
    "    :param ns: number of sources\n",
    "    :param f: frequency vector\n",
    "    \"\"\"\n",
    "    \n",
    "    # Initialise displacement vector.\n",
    "    u=np.zeros((n,len(ns),len(f)),dtype=np.cfloat)\n",
    "    \n",
    "    # March through frequencies.\n",
    "    for nf in range(len(f)):\n",
    "    \n",
    "        # Diagonal offsets.\n",
    "        offsets=np.array([0,1,-1])\n",
    "        # Initialise (sub)diagonal entries.\n",
    "        data=np.zeros((3,n),dtype=np.cfloat)\n",
    "        data[0,:]=-2.0*(c**2)/(dx**2)+(2.0*np.pi*f[nf])**2\n",
    "        data[1,:]=np.roll(c**2,1)/(dx**2)\n",
    "        data[2,:]=np.roll(c**2,-1)/(dx**2)\n",
    "        # Make impedance matrix.\n",
    "        L=sp.dia_matrix((data, offsets),shape=(n, n),dtype=np.cfloat)\n",
    "    \n",
    "        # Make sparse LU decomposition.\n",
    "        lu=sla.splu(L.tocsc())\n",
    "    \n",
    "        # March through sources.\n",
    "        for i in range(len(ns)):\n",
    "            # Make ith point source. Scale with large number to avoid underflow.\n",
    "            s=np.zeros(n,dtype=np.cfloat)\n",
    "            s[ns[i]]=1.0/dx\n",
    "            # Solve linear system.\n",
    "            u[:,i,nf]=lu.solve(-s)\n",
    "    \n",
    "    # Return.\n",
    "    return u"
   ]
  },
  {
   "cell_type": "code",
   "execution_count": null,
   "metadata": {
    "scrolled": true
   },
   "outputs": [],
   "source": [
    "# Compute wavefields for true and for initial velocity distributions.\n",
    "u=forward(n,dx,c,ns,f)\n",
    "u_obs=forward(n,dx,c_obs,ns,f)\n",
    "\n",
    "# Plot the wavefields.\n",
    "for j in range(len(f)):\n",
    "    for i in range(len(ns)):\n",
    "        plt.subplots(1,figsize=(30,10))\n",
    "        plt.plot(x/1000.0,1000.0*np.real(u_obs[:,i,j].reshape(np.shape(x))),'k',LineWidth=4)\n",
    "        plt.plot(x/1000.0,1000.0*np.real(u[:,i,j].reshape(np.shape(x))),'--',color=[0.5,0.5,0.5],LineWidth=5)\n",
    "        plt.plot(x[ns]/1000.0,np.zeros(len(ns)),'*',markerfacecolor=[0.2,0.2,0.2],markersize=30,markeredgecolor='k',markeredgewidth=2)\n",
    "        plt.plot(x[ns[i]]/1000.0,0.0,'*',markerfacecolor=[0.2,0.2,0.2],markersize=60,markeredgecolor='k',markeredgewidth=2)\n",
    "        plt.plot(x[rix]/1000.0,1000.0*np.real(u_obs[rix,i,j]),'^',markerfacecolor=[0.85,0.85,0.85],markersize=30,markeredgecolor='k',markeredgewidth=2)\n",
    "        plt.xlim([x[0]/1000.0,x[-1]/1000.0])\n",
    "        plt.xlabel(r'$x$ [km]')\n",
    "        plt.ylabel(r'$u$ [mm$\\cdot$s]')\n",
    "        plt.grid()\n",
    "        plt.title('wavefield for source %d and frequency %f Hz' % (i,f[j]),pad=40)\n",
    "        fn='OUTPUT_forward/wavefield_'+str(i)+'_'+str(j)+'.pdf'\n",
    "        plt.savefig(fn,bbox_inches='tight',format='pdf')\n",
    "        plt.show()"
   ]
  },
  {
   "cell_type": "markdown",
   "metadata": {},
   "source": [
    "## 4. Misfit and adjoint problem\n",
    "\n",
    "To measure the difference between the wavefields $u$ and $u^{obs}$ at the receiver locations, we define a simple $L_2$ misfit\n",
    "\\begin{equation}\n",
    "\\chi = \\frac{1}{2} \\sum_f \\sum_r [u_r(f) - u_r^{obs}(f)]^2\\,,\n",
    "\\end{equation}\n",
    "where the sum is over all receiver indices and frequencies. The corresponding adjoint source has the non-zero entries\n",
    "\\begin{equation}\n",
    "s_r^* = \\frac{1}{2} (u_r^{obs} - u_r)\\,.\n",
    "\\end{equation}\n",
    "The impedance matrix of the adjoint problem is the Hermetian conjugate of $\\mathbf{L}$."
   ]
  },
  {
   "cell_type": "code",
   "execution_count": null,
   "metadata": {},
   "outputs": [],
   "source": [
    "# Compute L2 misfit.\n",
    "sigma=0.01/1000.0\n",
    "chi=0.5*np.sum(np.abs(u[rix,:,:]-u_obs[rix,:,:])**2)/sigma**2\n",
    "print('misfit: %g' % chi)"
   ]
  },
  {
   "cell_type": "code",
   "execution_count": null,
   "metadata": {},
   "outputs": [],
   "source": [
    "def adjoint(n,dx,c,s,f):\n",
    "    \"\"\"\n",
    "    Forward problem solution via LU decomposition.\n",
    "    :param n: number of grid points\n",
    "    :param dx: spatial finite-difference increment\n",
    "    :param c: velocity distribution of dimension n\n",
    "    :param s: adjoint source of dimension n\n",
    "    :param f: frequency [Hz]\n",
    "    \"\"\"\n",
    "    \n",
    "    # Diagonal offsets.\n",
    "    offsets=np.array([0,1,-1])\n",
    "    # Initialise (sub)diagonal entries.\n",
    "    data=np.zeros((3,n),dtype=np.cfloat)\n",
    "    data[0,:]=np.conj(-2.0*(c**2)/(dx**2)+(2.0*np.pi*f)**2)\n",
    "    data[1,:]=np.conj(np.roll(c**2,1)/(dx**2))\n",
    "    data[2,:]=np.conj(np.roll(c**2,-1)/(dx**2))\n",
    "    # Make impedance matrix.\n",
    "    L=sp.dia_matrix((data,offsets),shape=(n, n),dtype=np.cfloat)\n",
    "    \n",
    "    # Solve via sparse LU decomposition.\n",
    "    lu=sla.splu(L.transpose().tocsc())\n",
    "    v=lu.solve(-s)\n",
    "    \n",
    "    # Return.\n",
    "    return v"
   ]
  },
  {
   "cell_type": "markdown",
   "metadata": {},
   "source": [
    "## 5. Compute gradient\n",
    "\n",
    "We finally compute the discrete gradient, the components of which are given as\n",
    "\\begin{equation}\n",
    "\\frac{\\partial\\chi}{\\partial c_i^{(r)}} = 4 Re\\, c_i v_i^* e_i\\,,\n",
    "\\end{equation}\n",
    "and\n",
    "\\begin{equation}\n",
    "\\frac{\\partial\\chi}{\\partial c_i^{(i)}} = -4 Im\\, c_i v_i^* e_i\\,,\n",
    "\\end{equation}\n",
    "where $e_i$ is the discrete second derivative of the forward wavefield\n",
    "\\begin{equation}\n",
    "e_i = \\frac{1}{dx^2} [u_{i+1} - 2u_i + u_{i-1}]\\,.\n",
    "\\end{equation}"
   ]
  },
  {
   "cell_type": "code",
   "execution_count": null,
   "metadata": {},
   "outputs": [],
   "source": [
    "# Derivative with respect to real part of velocity c.\n",
    "dchi_r=np.zeros(n,dtype=np.cfloat)\n",
    "# Derivative with respect to imaginary part of velocity c.\n",
    "dchi_i=np.zeros(n,dtype=np.cfloat)\n",
    "\n",
    "# Accumulate gradient by marching through frequencies and sources.\n",
    "for j in range(len(f)):\n",
    "    for i in range(len(ns)):\n",
    "        # Make adjoint source.\n",
    "        sa=np.zeros(n,dtype=np.cfloat)\n",
    "        sa[rix]=0.5*(u[rix,i,j]-u_obs[rix,i,j])/sigma**2\n",
    "        # Solve adjoint problem.\n",
    "        v=adjoint(n,dx,c,sa,f[j])\n",
    "        # Add to gradient.\n",
    "        e=np.zeros(n,dtype=np.cfloat)\n",
    "        e[1:n-1]=(u[0:n-2,i,j]-2.0*u[1:n-1,i,j]+u[2:n,i,j])/(dx**2)\n",
    "        # Compute gradients.\n",
    "        dchi_r+=4.0*np.real(c*np.conj(v)*e)\n",
    "        dchi_i-=4.0*np.imag(c*np.conj(v)*e)"
   ]
  },
  {
   "cell_type": "code",
   "execution_count": null,
   "metadata": {},
   "outputs": [],
   "source": [
    "# Plot.\n",
    "plt.subplots(1,figsize=(30,10))\n",
    "plt.plot(x/1000.0,np.real(dchi_r),'k',LineWidth=4)\n",
    "plt.xlabel(r'$x$ [km]')\n",
    "plt.ylabel(r'$\\partial\\chi/\\partial c_i^{re}$ [s/m]',labelpad=20)\n",
    "plt.grid()\n",
    "plt.title(r'derivative w.r.t. real part',pad=40)\n",
    "plt.xlim([x[0]/1000.0,x[-1]/1000.0])\n",
    "plt.savefig('OUTPUT_forward/derivative_real.pdf',bbox_inches='tight',format='pdf')\n",
    "plt.show()\n",
    "\n",
    "plt.subplots(1,figsize=(30,10))\n",
    "plt.plot(x/1000.0,np.real(dchi_i),'k',LineWidth=4)\n",
    "plt.xlabel(r'$x$ [km]')\n",
    "plt.ylabel(r'$\\partial\\chi/\\partial c_i^{im}$ [s/m]',labelpad=20)\n",
    "plt.grid()\n",
    "plt.title('derivative w.r.t. imaginary part',pad=40)\n",
    "plt.savefig('OUTPUT_forward/derivative_imag.pdf',bbox_inches='tight',format='pdf')\n",
    "plt.xlim([x[0]/1000.0,x[-1]/1000.0])\n",
    "plt.show()"
   ]
  },
  {
   "cell_type": "markdown",
   "metadata": {},
   "source": [
    "## 7. Gradient tests"
   ]
  },
  {
   "cell_type": "markdown",
   "metadata": {},
   "source": [
    "### 7.1. Hockey stick test\n",
    "\n",
    "The hockey stick test compares the adjoint-derived derivative with a finite-difference approximation of the derivative. In general, we expect this difference to be small. However, the difference will increase when the finite-difference increment is too large (poor finite-difference approximation) and when it is too small (floating point inaccuracy). This produces a characteristic hockey stick plot."
   ]
  },
  {
   "cell_type": "markdown",
   "metadata": {},
   "source": [
    "#### 7.1.1. Real part of velocity"
   ]
  },
  {
   "cell_type": "code",
   "execution_count": null,
   "metadata": {},
   "outputs": [],
   "source": [
    "# Index of the model parameter.\n",
    "idx=50\n",
    "# Range of model perturbation.\n",
    "dc=10.0**np.arange(-5.0,2.0,0.1)\n",
    "\n",
    "# Initialise arrays.\n",
    "dchi_fd=np.zeros(len(dc))\n",
    "c1=np.zeros(n,dtype=np.cfloat)\n",
    "c2=np.zeros(n,dtype=np.cfloat)\n",
    "c1[:]=c[:]\n",
    "c2[:]=c[:]\n",
    "\n",
    "# March through perturbation ranges.\n",
    "for i in range(len(dc)):\n",
    "    # Positive and negative model perturbations.\n",
    "    c1[idx]=c[idx]+dc[i]\n",
    "    c2[idx]=c[idx]-dc[i]\n",
    "    # Solve forward problems.\n",
    "    u1=forward(n,dx,c1,ns,f)\n",
    "    u2=forward(n,dx,c2,ns,f)\n",
    "    # Finite-difference approximation of derivative.\n",
    "    dchi_fd[i]=0.5*(np.sum(np.abs(u1[rix,:,:]-u_obs[rix,:,:])**2)/sigma**2-np.sum(np.abs(u2[rix,:,:]-u_obs[rix,:,:])**2)/sigma**2)\n",
    "    dchi_fd[i]=dchi_fd[i]/(2.0*dc[i])"
   ]
  },
  {
   "cell_type": "code",
   "execution_count": null,
   "metadata": {},
   "outputs": [],
   "source": [
    "plt.subplots(1,figsize=(20,20))\n",
    "plt.loglog(dc,np.abs((dchi_fd-dchi_r[idx])/dchi_r[idx]),'k',LineWidth=3)\n",
    "plt.loglog(dc,np.abs((dchi_fd-dchi_r[idx])/dchi_r[idx]),'ko',MarkerSize=10)\n",
    "plt.xlabel(r'increment $\\Delta c_i^{re}$ [m/s]',labelpad=20)\n",
    "plt.ylabel('relative derivative error',labelpad=20)\n",
    "plt.title('hockey stick plot',pad=40)\n",
    "plt.grid()\n",
    "plt.savefig('OUTPUT_forward/hockey_stick_real.pdf',bbox_inches='tight',format='pdf')\n",
    "plt.show()"
   ]
  },
  {
   "cell_type": "markdown",
   "metadata": {},
   "source": [
    "#### 7.1.2. Imaginary part of velocity"
   ]
  },
  {
   "cell_type": "code",
   "execution_count": null,
   "metadata": {},
   "outputs": [],
   "source": [
    "# Index of the model parameter.\n",
    "idx=50\n",
    "# Range of model perturbation.\n",
    "dc=10.0**np.arange(-5.0,2.0,0.1)\n",
    "\n",
    "# Initialise arrays.\n",
    "dchi_fd=np.zeros(len(dc))\n",
    "c1=np.zeros(n,dtype=np.cfloat)\n",
    "c2=np.zeros(n,dtype=np.cfloat)\n",
    "c1[:]=c[:]\n",
    "c2[:]=c[:]\n",
    "\n",
    "# March through perturbation ranges.\n",
    "for i in range(len(dc)):\n",
    "    # Positive and negative model perturbations.\n",
    "    c1[idx]=c[idx]+1j*dc[i]\n",
    "    c2[idx]=c[idx]-1j*dc[i]\n",
    "    # Solve forward problems.\n",
    "    u1=forward(n,dx,c1,ns,f)\n",
    "    u2=forward(n,dx,c2,ns,f)\n",
    "    # Finite-difference approximation of derivative.\n",
    "    dchi_fd[i]=0.5*(np.sum(np.abs(u1[rix,:,:]-u_obs[rix,:,:])**2)/sigma**2-np.sum(np.abs(u2[rix,:,:]-u_obs[rix,:,:])**2)/sigma**2)\n",
    "    dchi_fd[i]=dchi_fd[i]/(2.0*dc[i])"
   ]
  },
  {
   "cell_type": "code",
   "execution_count": null,
   "metadata": {},
   "outputs": [],
   "source": [
    "plt.subplots(1,figsize=(20,20))\n",
    "plt.loglog(dc,np.abs((dchi_fd-dchi_i[idx])/dchi_i[idx]),'k',LineWidth=3)\n",
    "plt.loglog(dc,np.abs((dchi_fd-dchi_i[idx])/dchi_i[idx]),'ko',MarkerSize=10)\n",
    "plt.xlabel(r'increment $\\Delta c_i^{im}$ [m/s]',labelpad=20)\n",
    "plt.ylabel('relative derivative error',labelpad=20)\n",
    "plt.title('hockey stick plot',pad=40)\n",
    "plt.grid()\n",
    "plt.savefig('OUTPUT_forward/hockey_stick_imag.pdf',bbox_inches='tight',format='pdf')\n",
    "plt.show()"
   ]
  },
  {
   "cell_type": "markdown",
   "metadata": {},
   "source": [
    "### 7.2. Space-dependent derivative\n",
    "\n",
    "For a fixed finite-difference increment, we may also compute a finite-difference approximation of the misfit derivative for all grid points and compare this to the adjoint-based derivative. This is precisely the brute-force approach that adjoint methods are supposed to avoid."
   ]
  },
  {
   "cell_type": "markdown",
   "metadata": {},
   "source": [
    "#### 7.2.1. Real part of velocity"
   ]
  },
  {
   "cell_type": "code",
   "execution_count": null,
   "metadata": {},
   "outputs": [],
   "source": [
    "# Fixed finite-difference increment.\n",
    "dc=1.0e-2\n",
    "\n",
    "# Initialise arrays.\n",
    "dchi_fd=np.zeros(n)\n",
    "c1=np.zeros(n,dtype=np.cfloat)\n",
    "c2=np.zeros(n,dtype=np.cfloat)\n",
    "\n",
    "# March through grid points.\n",
    "for i in range(n):\n",
    "    # Positive and negative model perturbations.\n",
    "    c1[:]=c[:]\n",
    "    c2[:]=c[:]\n",
    "    c1[i]=c[i]+dc\n",
    "    c2[i]=c[i]-dc\n",
    "    # Solve forward problems.\n",
    "    u1=forward(n,dx,c1,ns,f)\n",
    "    u2=forward(n,dx,c2,ns,f)\n",
    "    # Finite-difference approximation of derivative.\n",
    "    dchi_fd[i]=0.5*(np.sum(np.abs(u1[rix,:,:]-u_obs[rix,:,:])**2)/sigma**2-np.sum(np.abs(u2[rix,:,:]-u_obs[rix,:,:])**2)/sigma**2)\n",
    "    dchi_fd[i]=dchi_fd[i]/(2.0*dc)"
   ]
  },
  {
   "cell_type": "code",
   "execution_count": null,
   "metadata": {},
   "outputs": [],
   "source": [
    "plt.subplots(1,figsize=(30,10))\n",
    "plt.plot(x/1000.0,dchi_fd,'k',LineWidth=4)\n",
    "plt.xlabel(r'$x$ [km]')\n",
    "plt.ylabel(r'$\\partial\\chi/\\partial c_i^{re}|_{FD}$ [s/m]',labelpad=20)\n",
    "plt.grid()\n",
    "plt.title(r'FD derivative w.r.t. real part',pad=40)\n",
    "plt.xlim([x[0]/1000.0,x[-1]/1000.0])\n",
    "plt.savefig('OUTPUT_forward/derivative_real_fd.pdf',bbox_inches='tight',format='pdf')\n",
    "plt.show()\n",
    "\n",
    "plt.subplots(1,figsize=(30,10))\n",
    "plt.plot(x/1000.0,1.0e10*np.real(dchi_fd-dchi_r),'k',LineWidth=4)\n",
    "plt.xlabel(r'$x$ [km]')\n",
    "plt.ylabel(r'$\\Delta \\partial\\chi/\\partial c_i^{re}$ [$10^{-10}$ s/m]',labelpad=20)\n",
    "plt.grid()\n",
    "plt.title(r'FD derivative error w.r.t. real part',pad=40)\n",
    "plt.xlim([x[0]/1000.0,x[-1]/1000.0])\n",
    "plt.ylim([-2.0, 2.0])\n",
    "plt.savefig('OUTPUT_forward/derivative_real_error.pdf',bbox_inches='tight',format='pdf')\n",
    "plt.show()\n"
   ]
  },
  {
   "cell_type": "markdown",
   "metadata": {},
   "source": [
    "#### 7.1.2. Imaginary part of velocity"
   ]
  },
  {
   "cell_type": "code",
   "execution_count": null,
   "metadata": {},
   "outputs": [],
   "source": [
    "# Fixed finite-difference increment.\n",
    "dc=1.0e-2\n",
    "\n",
    "# Initialise arrays.\n",
    "dchi_fd=np.zeros(n)\n",
    "c1=np.zeros(n,dtype=np.cfloat)\n",
    "c2=np.zeros(n,dtype=np.cfloat)\n",
    "\n",
    "# March through grid points.\n",
    "for i in range(n):\n",
    "    # Positive and negative model perturbations.\n",
    "    c1[:]=c[:]\n",
    "    c2[:]=c[:]\n",
    "    c1[i]=c[i]+1j*dc\n",
    "    c2[i]=c[i]-1j*dc\n",
    "    # Solve forward problems.\n",
    "    u1=forward(n,dx,c1,ns,f)\n",
    "    u2=forward(n,dx,c2,ns,f)\n",
    "    # Finite-difference approximation of derivative.\n",
    "    dchi_fd[i]=0.5*(np.sum(np.abs(u1[rix,:,:]-u_obs[rix,:,:])**2)-np.sum(np.abs(u2[rix,:,:]-u_obs[rix,:,:])**2))\n",
    "    dchi_fd[i]=dchi_fd[i]/(2.0*dc)"
   ]
  },
  {
   "cell_type": "code",
   "execution_count": null,
   "metadata": {},
   "outputs": [],
   "source": [
    "plt.plot(x,dchi_fd)\n",
    "plt.xlabel('x [m]')\n",
    "plt.ylabel('misfit gradient (FD)')\n",
    "plt.title('FD approximation of misfit gradient')\n",
    "plt.show()\n",
    "\n",
    "plt.semilogy(x,np.abs(dchi_fd-dchi_i))\n",
    "plt.xlabel('x [m]')\n",
    "plt.ylabel('misfit gradient (FD)')\n",
    "plt.title('error of FD approximation')\n",
    "plt.show()"
   ]
  }
 ],
 "metadata": {
  "kernelspec": {
   "display_name": "Python 3",
   "language": "python",
   "name": "python3"
  },
  "language_info": {
   "codemirror_mode": {
    "name": "ipython",
    "version": 3
   },
   "file_extension": ".py",
   "mimetype": "text/x-python",
   "name": "python",
   "nbconvert_exporter": "python",
   "pygments_lexer": "ipython3",
   "version": "3.8.3"
  }
 },
 "nbformat": 4,
 "nbformat_minor": 2
}
