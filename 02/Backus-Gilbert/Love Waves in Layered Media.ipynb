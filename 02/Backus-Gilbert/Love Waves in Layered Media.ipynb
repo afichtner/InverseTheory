{
 "cells": [
  {
   "cell_type": "markdown",
   "metadata": {},
   "source": [
    "# Backus-Gilbert Theory\n",
    "\n",
    "Here comes some general description."
   ]
  },
  {
   "cell_type": "markdown",
   "metadata": {},
   "source": [
    "# 0. Python packages\n",
    "\n",
    "We begin with the import of some Python packages and a few lines of code that help us to embellish figures."
   ]
  },
  {
   "cell_type": "code",
   "execution_count": null,
   "metadata": {},
   "outputs": [],
   "source": [
    "from importlib import reload\n",
    "import numpy as np\n",
    "import matplotlib.pyplot as plt\n",
    "\n",
    "plt.rcParams[\"font.family\"] = \"serif\"\n",
    "plt.rcParams.update({'font.size': 30})\n",
    "plt.rcParams['xtick.major.pad']='12'\n",
    "plt.rcParams['ytick.major.pad']='12'"
   ]
  },
  {
   "cell_type": "markdown",
   "metadata": {},
   "source": [
    "# 1. Love waves"
   ]
  },
  {
   "cell_type": "markdown",
   "metadata": {},
   "source": [
    "## 1.1. General background\n",
    "\n",
    "The following is a notebook for the calculation of surface wave dispersion and sensitivity kernels for surface waves propagating in layered media. The developments closely follow the classical work of Takeuchi & Saito (1972) [\"Seismic Surface Waves\", Methods in Computational Physics: Advances in Research and Applications, 217 - 295]. For this, we consider elastic media with vertical symmetry axis, where the stress-strain relation is given by\n",
    "\n",
    "\\begin{equation}\n",
    "\\sigma_{xx} = A (\\epsilon_{xx} + \\epsilon_{yy}) - 2N \\epsilon_{yy} + F \\epsilon_{zz}\\,, \\\\\n",
    "\\sigma_{yy} = A (\\epsilon_{xx} + \\epsilon_{yy}) - 2N \\epsilon_{xx} + F \\epsilon_{zz}\\,, \\\\\n",
    "\\sigma_{zz} = F (\\epsilon_{xx} + \\epsilon_{yy}) + C \\epsilon_{zz}\\,, \\\\\n",
    "\\sigma_{yz} = 2 L (\\epsilon_{yz}\\,, \\\\\n",
    "\\sigma_{zx} = 2 L (\\epsilon_{zx})\\,, \\\\\n",
    "\\sigma_{xy} = 2N \\epsilon_{xy}\\,,\n",
    "\\end{equation}\n",
    "\n",
    "with the strain tensor components\n",
    "\n",
    "\\begin{equation}\n",
    "\\epsilon_{ij} = \\frac{1}{2} ( \\partial_i u_j + \\partial_j u_i )\\,.\n",
    "\\end{equation}\n",
    "\n",
    "The $z$-axis is defined positive upwards, medium parameters are assumed to depend only on $z$, and all waves propagate in $x$-direction. We will generally consider freely propagating waves, meaning that no sources are active. For this case, the equations of motion in the frequency domain are\n",
    "\n",
    "\\begin{equation}\n",
    "-\\omega^2 \\rho u_i - \\partial_j \\sigma_{ij} = 0\\,. \n",
    "\\end{equation}\n",
    "\n",
    "Love waves are SH-waves, and so we seek solutions to the equations of motion in the form\n",
    "\n",
    "\\begin{equation}\n",
    "u_x = u_z = 0\\,,\\\\\n",
    "u_y = y_1(z; \\omega, k) \\, e^{i(\\omega t - kx)}\\,.\n",
    "\\end{equation}\n",
    "\n",
    "Inserting this ansatz into the stress-strain relation and the equations of motion, yields a system of two ordinary differential equations,\n",
    "\n",
    "\\begin{equation}\n",
    "\\partial_z y_2 = (k^2 N - \\omega^2 \\rho) y_1\\,,\\\\\n",
    "\\partial_z y_1 = y_2/L\\,.\n",
    "\\end{equation}\n",
    "\n",
    "These equations have the useful advantage that they do not contain derivatives of the material parameters, and that they are written in terms of continuous displacement ($y_1$) and stress ($y_2$) quantities. These have to satisfy the boundary conditions\n",
    "\n",
    "\\begin{equation}\n",
    "y_1 \\text{ and } y_2 \\text{ are continuous}\\,,\\\\\n",
    "y_2 = 0 \\text{ at the surface}\\,,\\\\\n",
    "y_1,y_2 \\to 0 \\text{ as } z\\to -\\infty\\,.\n",
    "\\end{equation}"
   ]
  },
  {
   "cell_type": "markdown",
   "metadata": {},
   "source": [
    "## 1.2. Analytical solution for layer over a half-space"
   ]
  },
  {
   "cell_type": "markdown",
   "metadata": {},
   "source": [
    "For a homogeneous, isotropic layer ($0<z\\leq H$, with medium properties $L_1=N_1=\\mu_1$, $\\rho_1$) over a homogeneous, isotropic half-space ($z<0$, with medium properties $L_2=N_2=\\mu_2$, $\\rho_2$) the Love wave equations can be solved analytically. In the upper layer, we find\n",
    "\n",
    "\\begin{equation}\n",
    "y_1(z) = A \\cos(\\nu_1 z) + \\frac{\\mu_2\\nu_2}{\\mu_2\\nu_1} A \\sin(\\nu_1 z)\\,,\\\\\n",
    "y_2(z) = -A \\mu_1\\nu_1 \\sin(\\nu_1 z) + A \\mu_2 \\nu_2 \\cos(\\nu_1 z)\\,,\n",
    "\\end{equation}\n",
    "\n",
    "and in the half-space we have\n",
    "\n",
    "\\begin{equation}\n",
    "y_1(z) = A e^{\\nu_2 z}\\,\\\\\n",
    "y_2(z) = \\mu_2\\nu_2 A e^{\\nu_2 z}\\,,\n",
    "\\end{equation}\n",
    "\n",
    "with some arbitrary amplitude $A$. The positive scalars $\\nu_1$ and $\\nu_2$ are defined as\n",
    "\n",
    "\\begin{equation}\n",
    "\\nu_1^2 = \\frac{\\rho_1\\omega^2}{\\mu_1} - k^2 > 0\\,,\\\\\n",
    "\\nu_2^2 = k^2 - \\frac{\\rho_2\\omega^2}{\\mu_2} > 0\\,.\n",
    "\\end{equation}\n",
    "\n",
    "It follows immediately from the last two relations that a Love wave can only exist in the presence of a low-velocity layer, that is, when\n",
    "\n",
    "\\begin{equation}\n",
    "\\frac{\\mu_1}{\\rho_1} = \\beta_1^2 < \\frac{\\omega^2}{k^2} < \\beta_2^2 = \\frac{\\mu_2}{\\rho_2}\\,.\n",
    "\\end{equation}\n",
    "\n",
    "Hence, the phase velocity $\\omega/k$ of a Love wave is between the phase velocities of the layer (slower) and the half-space (faster). For a given frequency $\\omega$, the wave number $k$ is so far undetermined. It follows, however, from the free-surface boundary condition, which yields the characteristic equation of Love waves:\n",
    "\n",
    "\\begin{equation}\n",
    "\\mu_2\\nu_2\\,\\cos(\\nu_1 H) = \\mu_1\\nu_1\\,\\sin(\\nu_1 H)\\,.\n",
    "\\end{equation}"
   ]
  },
  {
   "cell_type": "markdown",
   "metadata": {},
   "source": [
    "### 1.2.1. Medium properties\n",
    "\n",
    "First, we define some medium properties and plot the characteristic function."
   ]
  },
  {
   "cell_type": "code",
   "execution_count": null,
   "metadata": {},
   "outputs": [],
   "source": [
    "# velocity [m/s] and density [kg/m^3] of the layer\n",
    "beta_1=2000.0\n",
    "rho_1=2700.0\n",
    "\n",
    "# velocity [m/s] and density [kg/m^3] of the half-space\n",
    "beta_2=3000.0\n",
    "rho_2=3100.0\n",
    "\n",
    "# thickness of the layer [m]\n",
    "H=10000.0\n",
    "\n",
    "# frequency [Hz]\n",
    "f=0.1"
   ]
  },
  {
   "cell_type": "code",
   "execution_count": null,
   "metadata": {},
   "outputs": [],
   "source": [
    "# shear moduli\n",
    "mu_1=(beta_1**2)*rho_1\n",
    "mu_2=(beta_2**2)*rho_2\n",
    "\n",
    "# circular frequency\n",
    "omega=2.0*np.pi*f"
   ]
  },
  {
   "cell_type": "markdown",
   "metadata": {},
   "source": [
    "### 1.2.2. Characteristic function"
   ]
  },
  {
   "cell_type": "code",
   "execution_count": null,
   "metadata": {},
   "outputs": [],
   "source": [
    "# march through phase velocities and plot left- versus right-hand side of the characteristic equation\n",
    "eps=1.0e-9\n",
    "c=np.linspace(beta_1+eps,beta_2-eps,10000)\n",
    "k=omega/c\n",
    "\n",
    "nu_1=np.sqrt(rho_1*omega**2/mu_1 - k**2)\n",
    "nu_2=np.sqrt(k**2 - rho_2*omega**2/mu_2)\n",
    "\n",
    "plt.subplots(1,figsize=(30,10))\n",
    "plt.plot(c,(mu_2*nu_2)*np.cos(nu_1*H),'--k',linewidth=2)\n",
    "plt.plot(c,(mu_1*nu_1)*np.sin(nu_1*H),'k',linewidth=2)\n",
    "plt.grid()\n",
    "plt.xlim([beta_1,beta_2])\n",
    "plt.xlabel('phase velocity, $c$ [m/s]',labelpad=20)\n",
    "plt.ylabel(r'[N$/$m$^3$]',labelpad=20)\n",
    "plt.tight_layout()\n",
    "plt.savefig('characteristic.pdf',format='pdf')\n",
    "plt.show()"
   ]
  },
  {
   "cell_type": "markdown",
   "metadata": {},
   "source": [
    "Obviously, the characteristic equation can have more than one solution, depending on the frequency. In general, the number of solutions increases with increasing frequency."
   ]
  },
  {
   "cell_type": "markdown",
   "metadata": {},
   "source": [
    "### 1.2.3. Dispersion curves\n",
    "\n",
    "As a next step, we will march through frequency $f$ and determine the wave numbers $k$ (or, equivalently, phase velocities $c$) that solve the characteristic equation. Each solution is referred to as a mode. The mode with the lowest frequency is the fundamental mode. All others are higher modes or overtones.\n",
    "\n",
    "To make the solution of the characteristic equation easier, we define it as a separate function:"
   ]
  },
  {
   "cell_type": "code",
   "execution_count": null,
   "metadata": {},
   "outputs": [],
   "source": [
    "def cf(omega,c):\n",
    "    \n",
    "    k=omega/c\n",
    "    nu_1=np.sqrt(rho_1*omega**2/mu_1 - k**2)\n",
    "    nu_2=np.sqrt(k**2 - rho_2*omega**2/mu_2)\n",
    "    \n",
    "    return (mu_2*nu_2)*np.cos(nu_1*H)- (mu_1*nu_1)*np.sin(nu_1*H)"
   ]
  },
  {
   "cell_type": "markdown",
   "metadata": {},
   "source": [
    "Then we define some input parameters; the frequency range of interest, and the maximum number of modes we wish to find. Approximate solutions are then found by bisection. To find these solutions with reasonable accuracy and to avoid missing modes, the frequency increment $df$ needs to be sufficiently small."
   ]
  },
  {
   "cell_type": "code",
   "execution_count": null,
   "metadata": {},
   "outputs": [],
   "source": [
    "# frequency range [Hz]\n",
    "f_min=0.02\n",
    "f_max=1.0\n",
    "df=0.01\n",
    "\n",
    "# maximum number of higher modes\n",
    "n=10"
   ]
  },
  {
   "cell_type": "markdown",
   "metadata": {},
   "source": [
    "Then we march through the discrete frequency intervals."
   ]
  },
  {
   "cell_type": "code",
   "execution_count": null,
   "metadata": {},
   "outputs": [],
   "source": [
    "# test phase velocities [m/s]\n",
    "b=np.linspace(beta_1+eps,beta_2-eps,1000)\n",
    "\n",
    "# march through frequency-phase velocity pairs\n",
    "f=np.arange(f_min,f_max+df,df)\n",
    "c=np.zeros((len(f),10))\n",
    "\n",
    "for i in range(len(f)):\n",
    "    \n",
    "    omega=2.0*np.pi*f[i]\n",
    "    count=0\n",
    "    \n",
    "    for j in range(len(b)-1):\n",
    "        \n",
    "        if (cf(omega,b[j])*cf(omega,b[j+1])<0.0):\n",
    "            c[i,count]=0.5*(b[j]+b[j+1])\n",
    "            count+=1"
   ]
  },
  {
   "cell_type": "markdown",
   "metadata": {},
   "source": [
    "Finally, we plot the results."
   ]
  },
  {
   "cell_type": "code",
   "execution_count": null,
   "metadata": {},
   "outputs": [],
   "source": [
    "plt.subplots(1,figsize=(25,10))\n",
    "for i in range(len(f)):\n",
    "    for j in range(n):\n",
    "        if c[i,j]>0.0: plt.plot(f[i],c[i,j],'kx')\n",
    "            \n",
    "plt.xlabel('frequency [Hz]',labelpad=20)\n",
    "plt.ylabel('phase velocity, $c$ [m/s]',labelpad=20)\n",
    "plt.xlim([f_min,f_max])\n",
    "plt.grid()\n",
    "plt.tight_layout()\n",
    "plt.savefig('dispersion.pdf',format='pdf')\n",
    "plt.show()"
   ]
  },
  {
   "cell_type": "markdown",
   "metadata": {},
   "source": [
    "### 1.2.4. Displacement and stress function\n",
    "\n",
    "Based on the computed dispersion curves, we can plot the displacement function $y_1$ and the stress function $y_2$ as a function of depth."
   ]
  },
  {
   "cell_type": "code",
   "execution_count": null,
   "metadata": {},
   "outputs": [],
   "source": [
    "# frequency index\n",
    "i=58\n",
    "# mode index\n",
    "j=0\n",
    "\n",
    "print('frequency=%f Hz, mode=%d, phase velocity=%f m/s' % (f[i],j,c[i,j]))"
   ]
  },
  {
   "cell_type": "code",
   "execution_count": null,
   "metadata": {
    "scrolled": false
   },
   "outputs": [],
   "source": [
    "# compute nu_1 and nu_2\n",
    "omega=2.0*np.pi*f[i]\n",
    "k=omega/c[i,j]\n",
    "nu_1=np.sqrt(rho_1*omega**2/mu_1 - k**2)\n",
    "nu_2=np.sqrt(k**2 - rho_2*omega**2/mu_2)\n",
    "\n",
    "# plot lower half space\n",
    "z=np.linspace(-3.0*H,0.0,100)\n",
    "y_1=np.exp(nu_2*z)\n",
    "y_2=mu_2*nu_2*np.exp(nu_2*z)\n",
    "\n",
    "plt.subplots(figsize=(8,12))\n",
    "plt.plot(y_1,z,'k',linewidth=2)\n",
    "\n",
    "# plot layer\n",
    "z=np.linspace(0.0,H,100)\n",
    "y_1=np.cos(nu_1*z)+((mu_2*nu_2)/(mu_1*nu_1))*np.sin(nu_1*z)\n",
    "y_2=-mu_1*nu_1*np.sin(nu_1*z)+mu_2*nu_2*np.cos(nu_1*z)\n",
    "\n",
    "plt.plot(y_1,z,'--k',linewidth=2)\n",
    "plt.grid()\n",
    "plt.title('displacement $y_1$',pad=30)\n",
    "plt.xlabel(r'$y_1$',labelpad=20)\n",
    "plt.ylabel(r'$z$ [m]',labelpad=20)\n",
    "plt.ylim([-2.0*H,H])\n",
    "plt.tight_layout()\n",
    "plt.savefig('displacement_05Hz_m3.pdf',format='pdf')\n",
    "plt.plot()"
   ]
  },
  {
   "cell_type": "markdown",
   "metadata": {},
   "source": [
    "## 1.3. Sensitivity kernel\n",
    "\n",
    "Based on the displacement and stress functions, we can compute the sensitivity kernel $K(z)$ that relates variations $\\delta\\mu(z)$ to fractional variations in the phase velocity $\\delta c /c$ via\n",
    "\n",
    "\\begin{equation}\n",
    "\\frac{\\delta c}{c} =  \\int\\limits_{-\\infty}^H K(z) \\delta\\mu(z)\\, dz\\,.\n",
    "\\end{equation}\n",
    "\n",
    "Explicitly, $K(z)$ is given by\n",
    "\n",
    "\\begin{equation}\n",
    "K(z) = \\frac{  k^2  y_1(z)^2 +  \\frac{1}{\\mu^2} y_2(z)^2 }{ 2 k^2  \\int\\limits_{-\\infty}^H \\mu(z) y_1(z)^2 \\, dz  }\\,.\n",
    "\\end{equation}"
   ]
  },
  {
   "cell_type": "code",
   "execution_count": null,
   "metadata": {},
   "outputs": [],
   "source": [
    "# frequency index\n",
    "i=58\n",
    "# mode index\n",
    "j=4\n",
    "\n",
    "print('frequency=%f Hz, mode=%d, phase velocity=%f m/s' % (f[i],j,c[i,j]))\n",
    "\n",
    "# compute nu_1 and nu_2\n",
    "omega=2.0*np.pi*f[i]\n",
    "k=omega/c[i,j]\n",
    "nu_1=np.sqrt(rho_1*omega**2/mu_1 - k**2)\n",
    "nu_2=np.sqrt(k**2 - rho_2*omega**2/mu_2)"
   ]
  },
  {
   "cell_type": "code",
   "execution_count": null,
   "metadata": {},
   "outputs": [],
   "source": [
    "## Compose mu, y_1 and y_2 over the complete depth range.\n",
    "N=200\n",
    "z=np.linspace(-3.0*H,H,N)\n",
    "y_1=np.zeros(len(z))\n",
    "y_2=np.zeros(len(z))\n",
    "mu=np.zeros(len(z))\n",
    "idx=np.int(np.where(np.abs(z)==np.min(np.abs(z)))[0])\n",
    "\n",
    "mu[:idx]=mu_2\n",
    "y_1[:idx]=np.exp(nu_2*z[:idx])\n",
    "y_2[:idx]=mu_2*nu_2*np.exp(nu_2*z[:idx])\n",
    "\n",
    "mu[idx:N]=mu_1\n",
    "y_1[idx:N]=np.cos(nu_1*z[idx:N])+((mu_2*nu_2)/(mu_1*nu_1))*np.sin(nu_1*z[idx:N])\n",
    "y_2[idx:N]=-mu_1*nu_1*np.sin(nu_1*z[idx:N])+mu_2*nu_2*np.cos(nu_1*z[idx:N])\n",
    "\n",
    "# Compute sensitivity kernel.\n",
    "dz=z[1]-z[0]\n",
    "I=2.0*k**2 * np.sum(mu*y_1**2)*dz\n",
    "K=k**2 * y_1**2 + y_2**2/mu**2\n",
    "K=K/I\n",
    "\n",
    "# Plot kernels.\n",
    "plt.subplots(figsize=(8,12))\n",
    "plt.plot(K,z,'k',linewidth=2)\n",
    "plt.xlabel(r'$K$ [m/N]',labelpad=20)\n",
    "plt.ylabel(r'$z$ [m]',labelpad=20)\n",
    "plt.grid()\n",
    "plt.ylim([-3.0*H,H])\n",
    "plt.tight_layout()\n",
    "plt.savefig('kernel_060Hz_m4.pdf',format='pdf')\n",
    "plt.show()"
   ]
  },
  {
   "cell_type": "markdown",
   "metadata": {},
   "source": [
    "# 2. Backus-Gilbert optimisation\n",
    "\n",
    "Having established the sensitivity kernels $K(z)$, which play the role of data kernels $G(z)$ in Backus-Gilbert theory, we can continue with the actual solution of the Backus-Gilbert optimisation. This is intended to find an averaging kernel $A(z)$ that is optimally localised around a certain depth $z_0$."
   ]
  },
  {
   "cell_type": "markdown",
   "metadata": {},
   "source": [
    "## 2.1. Input\n",
    "\n",
    "First, we provide some input, namely the target depth, and the frequency and mode indices of the Love wave modes that we wish to include. "
   ]
  },
  {
   "cell_type": "code",
   "execution_count": null,
   "metadata": {},
   "outputs": [],
   "source": [
    "# target depth [m]\n",
    "z_0=-5000.0\n",
    "\n",
    "# Make an array of [frequency index, mode index].\n",
    "modes=[[0,0],[10,0],[20,0],[30,0],[40,0],[50,0],[60,0],[70,0],[80,0],[90,0],[20,1],[30,1],[40,1],[50,1],[60,1],[70,1],[80,1],[90,1],[30,2],[40,2],[50,2],[60,2],[70,2],[80,2],[90,2],[50,3],[60,3],[70,3],[80,3],[90,3]]\n",
    "Nm=len(modes)"
   ]
  },
  {
   "cell_type": "code",
   "execution_count": null,
   "metadata": {},
   "outputs": [],
   "source": [
    "print(modes)"
   ]
  },
  {
   "cell_type": "markdown",
   "metadata": {},
   "source": [
    "## 2.2. Setup of linear system\n",
    "\n",
    "Backus-Gilbert optimisation can be formulated as a linear system of equations. In the following we set up the system matrix and the right-hand side. First, for convenience, we collect the kernels for all modes into a Numpy array."
   ]
  },
  {
   "cell_type": "code",
   "execution_count": null,
   "metadata": {},
   "outputs": [],
   "source": [
    "# Accumulate kernels\n",
    "N=200\n",
    "z=np.linspace(-3.0*H,H,N)\n",
    "dz=z[1]-z[0]\n",
    "G=np.zeros((Nm,len(z)))\n",
    "y_1=np.zeros(len(z))\n",
    "y_2=np.zeros(len(z))\n",
    "\n",
    "mu=np.zeros(len(z))\n",
    "idx=np.int(np.where(np.abs(z)==np.min(np.abs(z)))[0])\n",
    "mu[idx:N]=mu_1\n",
    "mu[:idx]=mu_2\n",
    "\n",
    "for i in range(Nm):\n",
    "    # Compute nu_1 and nu_2.\n",
    "    omega=2.0*np.pi*f[modes[i][0]]\n",
    "    k=omega/c[modes[i][0],modes[i][1]]\n",
    "    nu_1=np.sqrt(rho_1*omega**2/mu_1 - k**2)\n",
    "    nu_2=np.sqrt(k**2 - rho_2*omega**2/mu_2)\n",
    "    \n",
    "    # Compute displacement and stress functions.\n",
    "    y_1[idx:N]=np.cos(nu_1*z[idx:N])+((mu_2*nu_2)/(mu_1*nu_1))*np.sin(nu_1*z[idx:N])\n",
    "    y_2[idx:N]=-mu_1*nu_1*np.sin(nu_1*z[idx:N])+mu_2*nu_2*np.cos(nu_1*z[idx:N])\n",
    "    y_1[:idx]=np.exp(nu_2*z[:idx])\n",
    "    y_2[:idx]=mu_2*nu_2*np.exp(nu_2*z[:idx])\n",
    "    \n",
    "    # Compute sensitivity kernel.\n",
    "    I=2.0*k**2 * np.sum(mu*y_1**2)*dz\n",
    "    G[i,:]=(k**2 * y_1**2 + y_2**2/mu**2)/I"
   ]
  },
  {
   "cell_type": "markdown",
   "metadata": {},
   "source": [
    "With this we can compute the matrix $\\mathbf{S}$ and the vector $\\mathbf{u}$, and solve the linear system."
   ]
  },
  {
   "cell_type": "code",
   "execution_count": null,
   "metadata": {},
   "outputs": [],
   "source": [
    "# compute S matrix and u vector.\n",
    "S=np.zeros((Nm,Nm))\n",
    "u=np.zeros(Nm)\n",
    "\n",
    "for i in range(Nm):\n",
    "    u[i]=np.sum(G[i,:])*dz\n",
    "    for j in range(Nm):\n",
    "        S[i,j]=24.0*np.sum((z-z_0)**2 * G[i,:] * G[j,:])*dz\n",
    "        \n",
    "# Solve linear system.\n",
    "a=np.dot(np.linalg.inv(S),u)\n",
    "\n",
    "# Compute normalisation.\n",
    "a=a/np.dot(a,u)"
   ]
  },
  {
   "cell_type": "markdown",
   "metadata": {},
   "source": [
    "## 2.3. Compute and visualise averaging kernel\n",
    "\n",
    "From the solution of the linear system, we can accumulate the averaging kernel $A(z)$ and compute the averaging length scale."
   ]
  },
  {
   "cell_type": "code",
   "execution_count": null,
   "metadata": {},
   "outputs": [],
   "source": [
    "# Assemble the averaging kernel.\n",
    "A=np.zeros(len(z))\n",
    "for i in range(Nm): A+=a[i]*G[i,:]\n",
    "    \n",
    "# Compute averaging length scale.\n",
    "s=12.0*np.sum((z-z_0)**2 * A**2)*dz\n",
    "print('averaging length: %f m' % s)"
   ]
  },
  {
   "cell_type": "code",
   "execution_count": null,
   "metadata": {},
   "outputs": [],
   "source": [
    "# Plot averaging kernel.\n",
    "plt.subplots(figsize=(8,12))\n",
    "plt.plot(A,z,'k',linewidth=2)\n",
    "plt.xlabel(r'$A$ [1/m]',labelpad=20)\n",
    "plt.ylabel(r'$z$ [m]',labelpad=20)\n",
    "plt.grid()\n",
    "plt.ylim([-2.0*H,H])\n",
    "plt.tight_layout()\n",
    "plt.savefig('A_all_m5000.pdf',format='pdf')\n",
    "plt.show()"
   ]
  },
  {
   "cell_type": "markdown",
   "metadata": {},
   "source": [
    "# 2.4. Investigate influence of data errors"
   ]
  },
  {
   "cell_type": "code",
   "execution_count": null,
   "metadata": {},
   "outputs": [],
   "source": [
    "# Make some data covariance matrix.\n",
    "C=np.identity(len(modes))\n",
    "\n",
    "# Choose some weight.\n",
    "gamma=1.0e-22\n",
    "\n",
    "# Compute new averaging coefficients.\n",
    "# Solve linear system.\n",
    "ae=np.dot(np.linalg.inv(S+gamma*C),u)\n",
    "\n",
    "# Compute normalisation.\n",
    "ae=ae/np.dot(ae,u)"
   ]
  },
  {
   "cell_type": "code",
   "execution_count": null,
   "metadata": {},
   "outputs": [],
   "source": [
    "# Assemble the averaging kernel.\n",
    "Ae=np.zeros(len(z))\n",
    "for i in range(Nm): Ae+=ae[i]*G[i,:]\n",
    "    \n",
    "# Compute averaging length scale.\n",
    "s=0.5*np.dot(ae,np.dot(S,ae))\n",
    "print('averaging length: %f m' % s)\n",
    "\n",
    "# Compute standard deviation of the average.\n",
    "sigma=np.sqrt(np.dot(ae,np.dot(C,ae)))\n",
    "print('standard deviation of average: %g N/m**2' % sigma)"
   ]
  },
  {
   "cell_type": "code",
   "execution_count": null,
   "metadata": {},
   "outputs": [],
   "source": [
    "gamma_v=[1.0e-26,1.0e-25,1.0e-24,1.0e-23,1.0e-22,1.0e-21,1.0e-20,1.0e-19,1.0e-18]\n",
    "sigma_v=[2.0e14,3.2e13,1.39e13,1.15e13,6.44e12,1.11e12,5.11e11,1.99e11,8.34e10]\n",
    "s_v=[3619.4,4035.8,4118.0,4244.4,6027.9,11133.9,13622.7,16944.2,21547.9]\n",
    "\n",
    "plt.subplots(figsize=(12,12))\n",
    "plt.semilogy(s_v,sigma_v,'k')\n",
    "plt.semilogy(s_v,sigma_v,'ko')\n",
    "plt.grid()\n",
    "plt.xlabel('averaging length [m]',labelpad=20)\n",
    "plt.ylabel('standard deviation of average [N/m$^2$]')\n",
    "plt.tight_layout()\n",
    "plt.savefig('L.pdf',format='pdf')\n",
    "plt.show()"
   ]
  },
  {
   "cell_type": "code",
   "execution_count": null,
   "metadata": {},
   "outputs": [],
   "source": [
    "# Plot averaging kernel.\n",
    "plt.subplots(figsize=(8,12))\n",
    "plt.plot(A,z,'--',color=[0.5,0.5,0.5],linewidth=2)\n",
    "plt.plot(Ae,z,'k',linewidth=2)\n",
    "plt.xlabel(r'$A$ [1/m]',labelpad=20)\n",
    "plt.ylabel(r'$z$ [m]',labelpad=20)\n",
    "plt.grid()\n",
    "plt.ylim([-2.0*H,H])\n",
    "plt.tight_layout()\n",
    "plt.savefig('Ae_e22.pdf',format='pdf')\n",
    "plt.show()"
   ]
  }
 ],
 "metadata": {
  "kernelspec": {
   "display_name": "Python 3",
   "language": "python",
   "name": "python3"
  },
  "language_info": {
   "codemirror_mode": {
    "name": "ipython",
    "version": 3
   },
   "file_extension": ".py",
   "mimetype": "text/x-python",
   "name": "python",
   "nbconvert_exporter": "python",
   "pygments_lexer": "ipython3",
   "version": "3.8.3"
  }
 },
 "nbformat": 4,
 "nbformat_minor": 4
}
